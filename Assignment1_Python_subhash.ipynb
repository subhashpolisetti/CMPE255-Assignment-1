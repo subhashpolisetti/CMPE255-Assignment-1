{
  "nbformat": 4,
  "nbformat_minor": 0,
  "metadata": {
    "colab": {
      "provenance": [],
      "toc_visible": true,
      "include_colab_link": true
    },
    "kernelspec": {
      "name": "python3",
      "display_name": "Python 3"
    },
    "language_info": {
      "name": "python"
    }
  },
  "cells": [
    {
      "cell_type": "markdown",
      "metadata": {
        "id": "view-in-github",
        "colab_type": "text"
      },
      "source": [
        "<a href=\"https://colab.research.google.com/github/subhashpolisetti/CMPE255-Assignment-1/blob/main/Assignment1_Python_subhash.ipynb\" target=\"_parent\"><img src=\"https://colab.research.google.com/assets/colab-badge.svg\" alt=\"Open In Colab\"/></a>"
      ]
    },
    {
      "cell_type": "code",
      "execution_count": null,
      "metadata": {
        "id": "-PT_n3HXubF2"
      },
      "outputs": [],
      "source": [
        "import random\n",
        "import sys\n",
        "import os"
      ]
    },
    {
      "cell_type": "code",
      "source": [
        "print('Hello World')"
      ],
      "metadata": {
        "colab": {
          "base_uri": "https://localhost:8080/"
        },
        "id": "-TAHOOjhuj0-",
        "outputId": "4d882540-57ff-4cce-f4ef-7008b17cdd7f"
      },
      "execution_count": null,
      "outputs": [
        {
          "output_type": "stream",
          "name": "stdout",
          "text": [
            "Hello World\n"
          ]
        }
      ]
    },
    {
      "cell_type": "code",
      "source": [
        "#Comment\n",
        "''' Hello\n",
        "Multiline\n",
        "'''"
      ],
      "metadata": {
        "colab": {
          "base_uri": "https://localhost:8080/",
          "height": 35
        },
        "id": "cgF7dLIxnlzc",
        "outputId": "1a8232f4-52a6-4eae-ffc0-7acdc50b2594"
      },
      "execution_count": null,
      "outputs": [
        {
          "output_type": "execute_result",
          "data": {
            "text/plain": [
              "' Hello\\nMultiline\\n'"
            ],
            "application/vnd.google.colaboratory.intrinsic+json": {
              "type": "string"
            }
          },
          "metadata": {},
          "execution_count": 21
        }
      ]
    },
    {
      "cell_type": "code",
      "source": [
        "name='Derek'\n",
        "print(name)"
      ],
      "metadata": {
        "colab": {
          "base_uri": "https://localhost:8080/"
        },
        "id": "d8bH4YzZnqZd",
        "outputId": "147f425b-4339-4040-9f63-f8e519adebd3"
      },
      "execution_count": null,
      "outputs": [
        {
          "output_type": "stream",
          "name": "stdout",
          "text": [
            "Derek\n"
          ]
        }
      ]
    },
    {
      "cell_type": "markdown",
      "source": [
        "#Arithmetic Operators\n",
        "\n",
        "> Add blockquote\n",
        "\n"
      ],
      "metadata": {
        "id": "7TzcecLjoIfG"
      }
    },
    {
      "cell_type": "code",
      "source": [
        "print('5 + 2 =',5+2)"
      ],
      "metadata": {
        "colab": {
          "base_uri": "https://localhost:8080/"
        },
        "id": "4uLPtDb1nzrT",
        "outputId": "84d7906a-60aa-441e-d4ac-95506a420108"
      },
      "execution_count": null,
      "outputs": [
        {
          "output_type": "stream",
          "name": "stdout",
          "text": [
            "5 + 2 = 7\n"
          ]
        }
      ]
    },
    {
      "cell_type": "code",
      "source": [
        "print('5 - 2 =',5-2)"
      ],
      "metadata": {
        "colab": {
          "base_uri": "https://localhost:8080/"
        },
        "id": "_rNcQrxpoV0p",
        "outputId": "254855e4-f963-47dc-edb5-8b78d3ff1f46"
      },
      "execution_count": null,
      "outputs": [
        {
          "output_type": "stream",
          "name": "stdout",
          "text": [
            "5 - 2 = 3\n"
          ]
        }
      ]
    },
    {
      "cell_type": "code",
      "source": [
        "print('5 * 2 =',5*2)"
      ],
      "metadata": {
        "colab": {
          "base_uri": "https://localhost:8080/"
        },
        "id": "85xOpV9boaU_",
        "outputId": "43f2caca-43ab-4d8f-fae7-3e39247f49ae"
      },
      "execution_count": null,
      "outputs": [
        {
          "output_type": "stream",
          "name": "stdout",
          "text": [
            "5 * 2 = 10\n"
          ]
        }
      ]
    },
    {
      "cell_type": "code",
      "source": [
        "print('5 ** 2 =',5**2)"
      ],
      "metadata": {
        "colab": {
          "base_uri": "https://localhost:8080/"
        },
        "id": "h4Z1oh3Fodig",
        "outputId": "9c0d3a48-1094-4554-9bb4-0a2fce2a2690"
      },
      "execution_count": null,
      "outputs": [
        {
          "output_type": "stream",
          "name": "stdout",
          "text": [
            "5 ** 2 = 25\n"
          ]
        }
      ]
    },
    {
      "cell_type": "code",
      "source": [
        "print('5 / 2 =',5/2)"
      ],
      "metadata": {
        "colab": {
          "base_uri": "https://localhost:8080/"
        },
        "id": "C_jzI3TGogaB",
        "outputId": "4c9b216d-6313-4322-8271-723401160132"
      },
      "execution_count": null,
      "outputs": [
        {
          "output_type": "stream",
          "name": "stdout",
          "text": [
            "5 / 2 = 2.5\n"
          ]
        }
      ]
    },
    {
      "cell_type": "code",
      "source": [
        "print('5 // 2 =',5//2)"
      ],
      "metadata": {
        "colab": {
          "base_uri": "https://localhost:8080/"
        },
        "id": "FrG5BUUgokzx",
        "outputId": "e658d46d-b99e-441e-e6f5-42520ffc9b5a"
      },
      "execution_count": null,
      "outputs": [
        {
          "output_type": "stream",
          "name": "stdout",
          "text": [
            "5 // 2 = 2\n"
          ]
        }
      ]
    },
    {
      "cell_type": "code",
      "source": [
        "print('5 % 2 =',5%2)"
      ],
      "metadata": {
        "colab": {
          "base_uri": "https://localhost:8080/"
        },
        "id": "metGpUABopFZ",
        "outputId": "0957e8cc-3a93-4c87-b90e-de2ac288b550"
      },
      "execution_count": null,
      "outputs": [
        {
          "output_type": "stream",
          "name": "stdout",
          "text": [
            "5 % 2 = 1\n"
          ]
        }
      ]
    },
    {
      "cell_type": "code",
      "source": [
        "print('1+2-3*2=',1+2-3*2)\n",
        "print('(1+2-3)*2=',(1+2-3)*2)"
      ],
      "metadata": {
        "colab": {
          "base_uri": "https://localhost:8080/"
        },
        "id": "GlRF8ovDo3XF",
        "outputId": "23ce41f8-5606-4569-f3dc-1c7b6b4a32f0"
      },
      "execution_count": null,
      "outputs": [
        {
          "output_type": "stream",
          "name": "stdout",
          "text": [
            "1+2-3*2= -3\n",
            "(1+2-3)*2= 0\n"
          ]
        }
      ]
    },
    {
      "cell_type": "markdown",
      "source": [
        "#Escape character"
      ],
      "metadata": {
        "id": "WJtzP9IppWvj"
      }
    },
    {
      "cell_type": "code",
      "source": [
        "quote='\\'Always remember you are unique'\n",
        "print(quote)"
      ],
      "metadata": {
        "colab": {
          "base_uri": "https://localhost:8080/"
        },
        "id": "X_hvHfjBpMB2",
        "outputId": "5c72d0b8-18f4-4304-bd40-746c955e8eb0"
      },
      "execution_count": null,
      "outputs": [
        {
          "output_type": "stream",
          "name": "stdout",
          "text": [
            "'Always remember you are unique\n"
          ]
        }
      ]
    },
    {
      "cell_type": "code",
      "source": [
        "m='''hi\n",
        "I'm Subhash\n",
        "'''\n",
        "print(m)"
      ],
      "metadata": {
        "colab": {
          "base_uri": "https://localhost:8080/"
        },
        "id": "s361IrYSp8yB",
        "outputId": "f28d7ead-b0c9-4745-aa9e-1da3e7e5e867"
      },
      "execution_count": null,
      "outputs": [
        {
          "output_type": "stream",
          "name": "stdout",
          "text": [
            "hi\n",
            "I'm Subhash\n",
            "\n"
          ]
        }
      ]
    },
    {
      "cell_type": "code",
      "source": [
        "print('%s %s %s' % ('Subhash',quote,m))"
      ],
      "metadata": {
        "colab": {
          "base_uri": "https://localhost:8080/"
        },
        "id": "4RwB-6DNqBrR",
        "outputId": "4582c20a-64a5-4710-8a0d-692771a048b9"
      },
      "execution_count": null,
      "outputs": [
        {
          "output_type": "stream",
          "name": "stdout",
          "text": [
            "Subhash 'Always remember you are unique hi\n",
            "I'm Subhash\n",
            "\n"
          ]
        }
      ]
    },
    {
      "cell_type": "code",
      "source": [
        "print('I dont like ',end='')\n",
        "print('\\n' * 5)\n",
        "print('new lines')"
      ],
      "metadata": {
        "colab": {
          "base_uri": "https://localhost:8080/"
        },
        "id": "lmJ1RuezqWNc",
        "outputId": "9bfc3d08-39e0-4a8f-ba2d-3782339a9c23"
      },
      "execution_count": null,
      "outputs": [
        {
          "output_type": "stream",
          "name": "stdout",
          "text": [
            "I dont like \n",
            "\n",
            "\n",
            "\n",
            "\n",
            "\n",
            "new lines\n"
          ]
        }
      ]
    },
    {
      "cell_type": "markdown",
      "source": [
        "\n",
        "#List\n",
        "List is ordered, mutable and allow duplicate values.\n",
        "\n"
      ],
      "metadata": {
        "id": "Ka6GaHrWqqrJ"
      }
    },
    {
      "cell_type": "code",
      "source": [
        "l=['Juice','Cabbage',\n",
        "   'Bananas']\n",
        "print('First item is',l[0])"
      ],
      "metadata": {
        "colab": {
          "base_uri": "https://localhost:8080/"
        },
        "id": "Etr5wH-zqqEd",
        "outputId": "e87ac72f-6ea5-40e3-a5f0-785ec7c1edb8"
      },
      "execution_count": null,
      "outputs": [
        {
          "output_type": "stream",
          "name": "stdout",
          "text": [
            "First item is Juice\n"
          ]
        }
      ]
    },
    {
      "cell_type": "code",
      "source": [
        "l[0]='Green Juice'\n",
        "\n",
        "print('First item is',l[0])"
      ],
      "metadata": {
        "colab": {
          "base_uri": "https://localhost:8080/"
        },
        "id": "UMPHQhb7rhxq",
        "outputId": "ee67f69f-1cdc-42cb-ec7e-3433b450526d"
      },
      "execution_count": null,
      "outputs": [
        {
          "output_type": "stream",
          "name": "stdout",
          "text": [
            "First item is Green Juice\n"
          ]
        }
      ]
    },
    {
      "cell_type": "code",
      "source": [
        "print(l[1:3])"
      ],
      "metadata": {
        "colab": {
          "base_uri": "https://localhost:8080/"
        },
        "id": "HocUQLiDrmTE",
        "outputId": "e490a0a1-467d-46f8-dc75-fbd77fef7eff"
      },
      "execution_count": null,
      "outputs": [
        {
          "output_type": "stream",
          "name": "stdout",
          "text": [
            "['Cabbage', 'Bananas']\n"
          ]
        }
      ]
    },
    {
      "cell_type": "code",
      "source": [
        "o=['wash car','pickup kids','cash check']\n",
        "t=[o,l]\n",
        "print(t)"
      ],
      "metadata": {
        "colab": {
          "base_uri": "https://localhost:8080/"
        },
        "id": "dRSXijKvrp1p",
        "outputId": "ddad5bd1-77a2-4975-fd65-1d1ce1b34d96"
      },
      "execution_count": null,
      "outputs": [
        {
          "output_type": "stream",
          "name": "stdout",
          "text": [
            "[['wash car', 'pickup kids', 'cash check'], ['Green Juice', 'Cabbage', 'Bananas']]\n"
          ]
        }
      ]
    },
    {
      "cell_type": "code",
      "source": [
        "print(t[1][2])"
      ],
      "metadata": {
        "colab": {
          "base_uri": "https://localhost:8080/"
        },
        "id": "p1A8Jid6r88v",
        "outputId": "1592ba2a-bc45-44b9-9a0a-103b018c669b"
      },
      "execution_count": null,
      "outputs": [
        {
          "output_type": "stream",
          "name": "stdout",
          "text": [
            "Bananas\n"
          ]
        }
      ]
    },
    {
      "cell_type": "code",
      "source": [
        "l.append('Onions')\n",
        "print(l)"
      ],
      "metadata": {
        "colab": {
          "base_uri": "https://localhost:8080/"
        },
        "id": "Co_I0IpVsFY0",
        "outputId": "35a4b0d3-6258-4d42-d550-8fdf6e5b0b4b"
      },
      "execution_count": null,
      "outputs": [
        {
          "output_type": "stream",
          "name": "stdout",
          "text": [
            "['Green Juice', 'Cabbage', 'Bananas', 'Onions']\n"
          ]
        }
      ]
    },
    {
      "cell_type": "code",
      "source": [
        "l.insert(1,'Pickle')\n",
        "l.remove('Pickle')\n",
        "l.sort()\n",
        "l.reverse()\n",
        "del l[2]\n",
        "print(l)\n"
      ],
      "metadata": {
        "colab": {
          "base_uri": "https://localhost:8080/"
        },
        "id": "CaWm1YNrsJ6U",
        "outputId": "4efc2926-a223-4760-e0f8-54506f17eb3f"
      },
      "execution_count": null,
      "outputs": [
        {
          "output_type": "stream",
          "name": "stdout",
          "text": [
            "['Onions', 'Green Juice', 'Bananas']\n"
          ]
        }
      ]
    },
    {
      "cell_type": "code",
      "source": [
        "t2=o+l\n",
        "print(len(t2))\n",
        "print(max(t2))\n",
        "print(min(t2))\n",
        "print(t2)"
      ],
      "metadata": {
        "colab": {
          "base_uri": "https://localhost:8080/"
        },
        "id": "8gp5fIp8scBS",
        "outputId": "b6380cef-d8fa-49b7-b8b4-2d059a3cec05"
      },
      "execution_count": null,
      "outputs": [
        {
          "output_type": "stream",
          "name": "stdout",
          "text": [
            "6\n",
            "wash car\n",
            "Bananas\n",
            "['wash car', 'pickup kids', 'cash check', 'Onions', 'Green Juice', 'Bananas']\n"
          ]
        }
      ]
    },
    {
      "cell_type": "markdown",
      "source": [
        "#Tuple\n",
        "Tuple is ordered, immutable and allow duplicate values."
      ],
      "metadata": {
        "id": "S-Uwcrfkssky"
      }
    },
    {
      "cell_type": "code",
      "source": [
        "t=(3,1,4,1,5,9)\n",
        "\n",
        "l1=list(t)\n",
        "print(len(t))\n",
        "print(min(t))\n",
        "print(max(t))"
      ],
      "metadata": {
        "colab": {
          "base_uri": "https://localhost:8080/"
        },
        "id": "oRZ7uqERsr0B",
        "outputId": "5ad124a0-63a8-41fd-8fc3-9c469f206ee1"
      },
      "execution_count": null,
      "outputs": [
        {
          "output_type": "stream",
          "name": "stdout",
          "text": [
            "6\n",
            "1\n",
            "9\n"
          ]
        }
      ]
    },
    {
      "cell_type": "markdown",
      "source": [
        "#Dictionary\n",
        "\n",
        "Dictionary allows you to store data in a key-value pair format. It is unordered & mutable"
      ],
      "metadata": {
        "id": "3xpUNoysxiIf"
      }
    },
    {
      "cell_type": "code",
      "source": [
        "d={'Fiddler':'Isaac Bowin',\n",
        "   'Captain Cold' : 'Leonard Snart',\n",
        "   'Weather Wizard' : 'Mark Mardon',\n",
        "   'Mirror Master': 'Sam Scudder',\n",
        "   'Pied Piper':'Thomas'}"
      ],
      "metadata": {
        "id": "tIZiMDIOxLwu"
      },
      "execution_count": null,
      "outputs": []
    },
    {
      "cell_type": "code",
      "source": [
        "print(d['Captain Cold'])"
      ],
      "metadata": {
        "colab": {
          "base_uri": "https://localhost:8080/"
        },
        "id": "BG3spT6tyUb1",
        "outputId": "793dd385-d021-49be-895b-b244a704c767"
      },
      "execution_count": null,
      "outputs": [
        {
          "output_type": "stream",
          "name": "stdout",
          "text": [
            "Leonard Snart\n"
          ]
        }
      ]
    },
    {
      "cell_type": "code",
      "source": [
        "del d['Fiddler']\n",
        "print(d)"
      ],
      "metadata": {
        "colab": {
          "base_uri": "https://localhost:8080/"
        },
        "id": "B0nMpRhhyZ1N",
        "outputId": "b6f358af-982e-46bc-e990-60f2838440a5"
      },
      "execution_count": null,
      "outputs": [
        {
          "output_type": "stream",
          "name": "stdout",
          "text": [
            "{'Captain Cold': 'Leonard Snart', 'Weather Wizard': 'Mark Mardon', 'Mirror Master': 'Sam Scudder', 'Pied Piper': 'Thomas'}\n"
          ]
        }
      ]
    },
    {
      "cell_type": "code",
      "source": [
        "d['Pied Piper']='Hartley'\n",
        "print(d)"
      ],
      "metadata": {
        "colab": {
          "base_uri": "https://localhost:8080/"
        },
        "id": "XMff9XWVykDG",
        "outputId": "4b02e87f-4fcf-47f3-ea1d-a5e4c0e24063"
      },
      "execution_count": null,
      "outputs": [
        {
          "output_type": "stream",
          "name": "stdout",
          "text": [
            "{'Captain Cold': 'Leonard Snart', 'Weather Wizard': 'Mark Mardon', 'Mirror Master': 'Sam Scudder', 'Pied Piper': 'Hartley'}\n"
          ]
        }
      ]
    },
    {
      "cell_type": "code",
      "source": [
        "print(len(d))"
      ],
      "metadata": {
        "colab": {
          "base_uri": "https://localhost:8080/"
        },
        "id": "4Se82RjZywHN",
        "outputId": "7bb87a33-bc53-4591-bb1a-e35f22656ccd"
      },
      "execution_count": null,
      "outputs": [
        {
          "output_type": "stream",
          "name": "stdout",
          "text": [
            "4\n"
          ]
        }
      ]
    },
    {
      "cell_type": "code",
      "source": [
        "print(d.get('Pied Piper'))"
      ],
      "metadata": {
        "colab": {
          "base_uri": "https://localhost:8080/"
        },
        "id": "W_jiPMD0yxuw",
        "outputId": "96e9af95-f44d-46ac-b3c9-2ce1ecfd96b1"
      },
      "execution_count": null,
      "outputs": [
        {
          "output_type": "stream",
          "name": "stdout",
          "text": [
            "Hartley\n"
          ]
        }
      ]
    },
    {
      "cell_type": "code",
      "source": [
        "print(d.keys())"
      ],
      "metadata": {
        "colab": {
          "base_uri": "https://localhost:8080/"
        },
        "id": "YlvWdD4rzHn-",
        "outputId": "9d5b9bcc-d062-4f58-f4c1-413f2898a1f3"
      },
      "execution_count": null,
      "outputs": [
        {
          "output_type": "stream",
          "name": "stdout",
          "text": [
            "dict_keys(['Captain Cold', 'Weather Wizard', 'Mirror Master', 'Pied Piper'])\n"
          ]
        }
      ]
    },
    {
      "cell_type": "code",
      "source": [
        "print(d.values())"
      ],
      "metadata": {
        "colab": {
          "base_uri": "https://localhost:8080/"
        },
        "id": "7L-OI-YQzMqG",
        "outputId": "7e58322e-4016-4385-fc8c-aeb9e50a9885"
      },
      "execution_count": null,
      "outputs": [
        {
          "output_type": "stream",
          "name": "stdout",
          "text": [
            "dict_values(['Leonard Snart', 'Mark Mardon', 'Sam Scudder', 'Hartley'])\n"
          ]
        }
      ]
    },
    {
      "cell_type": "markdown",
      "source": [
        "#Conditional Statements\n",
        "\n",
        "if else elif\n",
        "== != > < <= >="
      ],
      "metadata": {
        "id": "WbJ7623pzRio"
      }
    },
    {
      "cell_type": "code",
      "source": [
        "age=21\n",
        "if(age>16):\n",
        "  print('You are old enough to drive')\n",
        "else:\n",
        "  print('You are not old enough to drive')"
      ],
      "metadata": {
        "colab": {
          "base_uri": "https://localhost:8080/"
        },
        "id": "PHDQSvRFzPsp",
        "outputId": "d2a5d5d0-a73b-48d1-f5de-46466de34add"
      },
      "execution_count": null,
      "outputs": [
        {
          "output_type": "stream",
          "name": "stdout",
          "text": [
            "You are old enough to drive\n"
          ]
        }
      ]
    },
    {
      "cell_type": "code",
      "source": [
        "if(age>=21):\n",
        "  print('You are old enough to drive tractor trailer')\n",
        "elif(age>=16):\n",
        "  print('You are old enough to drive a car')\n",
        "else:\n",
        "  print('You are not old enough to drive')"
      ],
      "metadata": {
        "colab": {
          "base_uri": "https://localhost:8080/"
        },
        "id": "E8hwPNca2DxM",
        "outputId": "7752278b-83d4-49c9-a06e-6a75e0ac9d05"
      },
      "execution_count": null,
      "outputs": [
        {
          "output_type": "stream",
          "name": "stdout",
          "text": [
            "You are old enough to drive tractor trailer\n"
          ]
        }
      ]
    },
    {
      "cell_type": "code",
      "source": [
        "if((age>=1) and (age<=18)):\n",
        "  print('You get a birthday')\n",
        "elif(age==21) or (age>=65):\n",
        "  print('You get a 21 birthday')\n",
        "elif not(age==30):\n",
        "  print('You don\\'t get a birthday' )\n",
        "else:\n",
        "  print('You get a birthday party yeah')"
      ],
      "metadata": {
        "colab": {
          "base_uri": "https://localhost:8080/"
        },
        "id": "9VrmrxwS2G2q",
        "outputId": "3c569de3-1626-477c-d8e3-a811b9b3caf0"
      },
      "execution_count": null,
      "outputs": [
        {
          "output_type": "stream",
          "name": "stdout",
          "text": [
            "You get a 21 birthday\n"
          ]
        }
      ]
    },
    {
      "cell_type": "markdown",
      "source": [
        "#**Loops**\n",
        "for\n",
        "while"
      ],
      "metadata": {
        "id": "xOs3wg-sEHkV"
      }
    },
    {
      "cell_type": "code",
      "source": [
        "for x in range(0,10):\n",
        "  print(x,' ',end='')\n",
        "print('\\n')\n",
        "l=['Juice','Tomatoes','Potatoes','Bananas']\n",
        "for y in l:\n",
        "  print(y)"
      ],
      "metadata": {
        "colab": {
          "base_uri": "https://localhost:8080/"
        },
        "id": "xXVsncQ4EFNy",
        "outputId": "8c0d0ef1-328d-4db5-b958-3203d0b5cac6"
      },
      "execution_count": null,
      "outputs": [
        {
          "output_type": "stream",
          "name": "stdout",
          "text": [
            "0  1  2  3  4  5  6  7  8  9  \n",
            "\n",
            "Juice\n",
            "Tomatoes\n",
            "Potatoes\n",
            "Bananas\n"
          ]
        }
      ]
    },
    {
      "cell_type": "code",
      "source": [
        "for x in [2,4,6,8,10]:\n",
        "  print(x)"
      ],
      "metadata": {
        "colab": {
          "base_uri": "https://localhost:8080/"
        },
        "id": "bjoqrzS8Epf-",
        "outputId": "39411a33-8a8c-45ae-e241-94829b406feb"
      },
      "execution_count": null,
      "outputs": [
        {
          "output_type": "stream",
          "name": "stdout",
          "text": [
            "2\n",
            "4\n",
            "6\n",
            "8\n",
            "10\n"
          ]
        }
      ]
    },
    {
      "cell_type": "code",
      "source": [
        "num_list=[[1,2,3],[10,20,30],[100,200,330]]\n",
        "for x in range(0,3):\n",
        "  for y in range(0,3):\n",
        "    print(num_list[x][y])"
      ],
      "metadata": {
        "colab": {
          "base_uri": "https://localhost:8080/"
        },
        "id": "3TzbQyOWEwKD",
        "outputId": "2b0b19a7-4962-41e6-974a-46822b9d4956"
      },
      "execution_count": null,
      "outputs": [
        {
          "output_type": "stream",
          "name": "stdout",
          "text": [
            "1\n",
            "2\n",
            "3\n",
            "10\n",
            "20\n",
            "30\n",
            "100\n",
            "200\n",
            "330\n"
          ]
        }
      ]
    },
    {
      "cell_type": "code",
      "source": [
        "r=random.randrange(1,20)\n",
        "print(r)"
      ],
      "metadata": {
        "colab": {
          "base_uri": "https://localhost:8080/"
        },
        "id": "ShnJF3m5Hdxa",
        "outputId": "0b2ca450-d8b5-4456-dd30-01b239f8e155"
      },
      "execution_count": null,
      "outputs": [
        {
          "output_type": "stream",
          "name": "stdout",
          "text": [
            "15\n"
          ]
        }
      ]
    },
    {
      "cell_type": "code",
      "source": [
        "while(r!=15):\n",
        "  print(r)\n",
        "  r=random.randrange(0,100)"
      ],
      "metadata": {
        "id": "MApdDPKQHvdU"
      },
      "execution_count": null,
      "outputs": []
    },
    {
      "cell_type": "code",
      "source": [
        "i=0\n",
        "while(i<=20):\n",
        "  if(i%2==0):\n",
        "    print(i)\n",
        "  elif(i==9):\n",
        "    break\n",
        "  else:\n",
        "    i+=1\n",
        "    continue\n",
        "  i+=1"
      ],
      "metadata": {
        "colab": {
          "base_uri": "https://localhost:8080/"
        },
        "id": "tXZpzJhDH-nO",
        "outputId": "e016621f-8493-49a6-b948-b8f4f5ebe72b"
      },
      "execution_count": null,
      "outputs": [
        {
          "output_type": "stream",
          "name": "stdout",
          "text": [
            "0\n",
            "2\n",
            "4\n",
            "6\n",
            "8\n"
          ]
        }
      ]
    },
    {
      "cell_type": "code",
      "source": [
        "def ad(f,l):\n",
        "  s=f+l\n",
        "  return s\n",
        "print(ad(2,3))"
      ],
      "metadata": {
        "colab": {
          "base_uri": "https://localhost:8080/"
        },
        "id": "tNRSY-mnIfDm",
        "outputId": "ce7e6e53-0dcd-4f32-fa28-c67d084b1e17"
      },
      "execution_count": null,
      "outputs": [
        {
          "output_type": "stream",
          "name": "stdout",
          "text": [
            "5\n"
          ]
        }
      ]
    },
    {
      "cell_type": "code",
      "source": [
        "name=sys.stdin.readline()\n",
        "print('Hello',name)"
      ],
      "metadata": {
        "colab": {
          "base_uri": "https://localhost:8080/"
        },
        "id": "ev37suFYIs9d",
        "outputId": "33287b45-faef-4b87-bbd3-4056fba56a34"
      },
      "execution_count": null,
      "outputs": [
        {
          "output_type": "stream",
          "name": "stdout",
          "text": [
            "Hello \n"
          ]
        }
      ]
    },
    {
      "cell_type": "code",
      "source": [
        "long_string='I\\'ll catch you if you fall - The Floor'\n",
        "print(long_string[0:4])\n",
        "print(long_string[-5:])\n",
        "print(long_string[:-5])\n",
        "print(long_string[:4]+\" be there\")\n",
        "print(\"%c is my %s letter and my number %d number is %.5f\" %('X','favorite',1,.14))"
      ],
      "metadata": {
        "colab": {
          "base_uri": "https://localhost:8080/"
        },
        "id": "jQx0b6QFMJby",
        "outputId": "9570141e-2519-459a-ef14-637b087c0170"
      },
      "execution_count": null,
      "outputs": [
        {
          "output_type": "stream",
          "name": "stdout",
          "text": [
            "I'll\n",
            "Floor\n",
            "I'll catch you if you fall - The \n",
            "I'll be there\n",
            "X is my favorite letter and my number 1 number is 0.14000\n"
          ]
        }
      ]
    },
    {
      "cell_type": "code",
      "source": [
        "print(long_string.capitalize())"
      ],
      "metadata": {
        "colab": {
          "base_uri": "https://localhost:8080/"
        },
        "id": "EIvTaN5QNd0n",
        "outputId": "e9fa425d-dbbc-435d-df92-0e1c0f792c4d"
      },
      "execution_count": null,
      "outputs": [
        {
          "output_type": "stream",
          "name": "stdout",
          "text": [
            "I'll catch you if you fall - the floor\n"
          ]
        }
      ]
    },
    {
      "cell_type": "code",
      "source": [
        "print(long_string.find('Floor'))"
      ],
      "metadata": {
        "colab": {
          "base_uri": "https://localhost:8080/"
        },
        "id": "r0L6fqFdNuKc",
        "outputId": "2d190bad-99d2-4b49-ef8f-18dedd6a15ce"
      },
      "execution_count": null,
      "outputs": [
        {
          "output_type": "stream",
          "name": "stdout",
          "text": [
            "33\n"
          ]
        }
      ]
    },
    {
      "cell_type": "code",
      "source": [
        "print(long_string.isalpha())"
      ],
      "metadata": {
        "colab": {
          "base_uri": "https://localhost:8080/"
        },
        "id": "PY2VzdD5N02j",
        "outputId": "af6c9809-6426-46a3-c57d-288a3a1b41cc"
      },
      "execution_count": null,
      "outputs": [
        {
          "output_type": "stream",
          "name": "stdout",
          "text": [
            "False\n"
          ]
        }
      ]
    },
    {
      "cell_type": "code",
      "source": [
        "print(long_string.isalnum())"
      ],
      "metadata": {
        "colab": {
          "base_uri": "https://localhost:8080/"
        },
        "id": "IU887bH-ODpi",
        "outputId": "db359935-e416-4cef-ce7c-5a0fcbc30df5"
      },
      "execution_count": null,
      "outputs": [
        {
          "output_type": "stream",
          "name": "stdout",
          "text": [
            "False\n"
          ]
        }
      ]
    },
    {
      "cell_type": "code",
      "source": [
        "print(len(long_string))"
      ],
      "metadata": {
        "colab": {
          "base_uri": "https://localhost:8080/"
        },
        "id": "RkVsnLenOHkF",
        "outputId": "bb770943-2063-408e-c195-e3b71855b6f8"
      },
      "execution_count": null,
      "outputs": [
        {
          "output_type": "stream",
          "name": "stdout",
          "text": [
            "38\n"
          ]
        }
      ]
    },
    {
      "cell_type": "code",
      "source": [
        "print(long_string.replace('Floor','Ground'))"
      ],
      "metadata": {
        "colab": {
          "base_uri": "https://localhost:8080/"
        },
        "id": "MgCyT1G0OOkl",
        "outputId": "e2eb9a17-06f0-440f-d493-a20866dfb915"
      },
      "execution_count": null,
      "outputs": [
        {
          "output_type": "stream",
          "name": "stdout",
          "text": [
            "I'll catch you if you fall - The Ground\n"
          ]
        }
      ]
    },
    {
      "cell_type": "code",
      "source": [
        "print(long_string.strip())"
      ],
      "metadata": {
        "colab": {
          "base_uri": "https://localhost:8080/"
        },
        "id": "5k6cnCUaOaz7",
        "outputId": "e1708c57-89e4-4dc0-8ccf-15eef92e8b5c"
      },
      "execution_count": null,
      "outputs": [
        {
          "output_type": "stream",
          "name": "stdout",
          "text": [
            "I'll catch you if you fall - The Floor\n"
          ]
        }
      ]
    },
    {
      "cell_type": "code",
      "source": [
        "quote_list=long_string.split(' ')\n",
        "print(quote_list)"
      ],
      "metadata": {
        "colab": {
          "base_uri": "https://localhost:8080/"
        },
        "id": "L-8pmRUnOjWd",
        "outputId": "a8bef5d6-84d9-46f5-a755-b9d9f5831f75"
      },
      "execution_count": null,
      "outputs": [
        {
          "output_type": "stream",
          "name": "stdout",
          "text": [
            "[\"I'll\", 'catch', 'you', 'if', 'you', 'fall', '-', 'The', 'Floor']\n"
          ]
        }
      ]
    },
    {
      "cell_type": "markdown",
      "source": [
        "#**Files**"
      ],
      "metadata": {
        "id": "-gFoOKx08z6h"
      }
    },
    {
      "cell_type": "code",
      "source": [
        "test_file=open('test.txt','wb') # to write on file\n",
        "print(test_file.mode)"
      ],
      "metadata": {
        "colab": {
          "base_uri": "https://localhost:8080/"
        },
        "id": "kyznpadYOuFU",
        "outputId": "4d429e9d-f546-42e5-f91d-a532a47a009e"
      },
      "execution_count": null,
      "outputs": [
        {
          "output_type": "stream",
          "name": "stdout",
          "text": [
            "wb\n"
          ]
        }
      ]
    },
    {
      "cell_type": "code",
      "source": [
        "print(test_file.name)"
      ],
      "metadata": {
        "colab": {
          "base_uri": "https://localhost:8080/"
        },
        "id": "mjXjasyfO9CW",
        "outputId": "a84a3174-7db8-4baf-d78a-4df1238c642f"
      },
      "execution_count": null,
      "outputs": [
        {
          "output_type": "stream",
          "name": "stdout",
          "text": [
            "test.txt\n"
          ]
        }
      ]
    },
    {
      "cell_type": "code",
      "source": [
        "test_file.write(bytes('Write me to the file\\n','UTF-8'))\n",
        "test_file.close()"
      ],
      "metadata": {
        "id": "3dEeWFIiPgBF"
      },
      "execution_count": null,
      "outputs": []
    },
    {
      "cell_type": "code",
      "source": [
        "test_file=open('test.txt','r+')"
      ],
      "metadata": {
        "id": "vkoxBDvmPub0"
      },
      "execution_count": null,
      "outputs": []
    },
    {
      "cell_type": "code",
      "source": [
        "text_in_file=test_file.read()"
      ],
      "metadata": {
        "id": "E2JX1xFTieC8"
      },
      "execution_count": null,
      "outputs": []
    },
    {
      "cell_type": "code",
      "source": [
        "print(text_in_file)"
      ],
      "metadata": {
        "colab": {
          "base_uri": "https://localhost:8080/"
        },
        "id": "avmb1npIikM7",
        "outputId": "00360288-7b39-4509-f76d-55a0b2a9e14d"
      },
      "execution_count": null,
      "outputs": [
        {
          "output_type": "stream",
          "name": "stdout",
          "text": [
            "Write me to the file\n",
            "\n"
          ]
        }
      ]
    },
    {
      "cell_type": "code",
      "source": [
        "os.remove('test.txt')"
      ],
      "metadata": {
        "id": "aV6n0cmsiqrs"
      },
      "execution_count": null,
      "outputs": []
    },
    {
      "cell_type": "markdown",
      "source": [
        "#**OOPS Concepts**"
      ],
      "metadata": {
        "id": "3oVn_n6L8tlb"
      }
    },
    {
      "cell_type": "code",
      "source": [
        "class Animal:\n",
        "  __name=''\n",
        "  __height=0\n",
        "  __weight=0\n",
        "  __sound=0\n",
        "  def __init__(self,name,height,weight,sound):\n",
        "    self.__name=name\n",
        "    self.__height=height\n",
        "    self.__weight=weight\n",
        "    self.__sound=sound\n",
        "  def set_name(self,name):\n",
        "    self.__name=name\n",
        "  def set_height(self,height):\n",
        "    self.__height=height\n",
        "  def set_weight(self,weight):\n",
        "    self.__weight=weight\n",
        "  def set_sound(self,sound):\n",
        "    self.__sound=sound\n",
        "  def get_name(self):\n",
        "    return self.__name\n",
        "\n",
        "  def get_height(self):\n",
        "    return str(self.__height)\n",
        "\n",
        "  def get_weight(self):\n",
        "    return str(self.__weight)\n",
        "\n",
        "  def get_sound(self):\n",
        "    return (self.__sound)\n",
        "  def get_type(self):\n",
        "    print('Animal')\n",
        "  def toString(self):\n",
        "    return '{} is {} cm tall and {} kilograms and say {}'.format(self.__name,\n",
        "                                                                 self.__height,\n",
        "                                                                 self.__weight,\n",
        "                                                                 self.__sound)\n",
        "cat=Animal('Whiskers','33','10','Meow')\n",
        "print(cat.toString())\n",
        "\n"
      ],
      "metadata": {
        "colab": {
          "base_uri": "https://localhost:8080/"
        },
        "id": "57G3OgZbjJQT",
        "outputId": "358ee62b-513e-4ae5-dc59-6c0811673929"
      },
      "execution_count": null,
      "outputs": [
        {
          "output_type": "stream",
          "name": "stdout",
          "text": [
            "Whiskers is 33 cm tall and 10 kilograms and say Meow\n"
          ]
        }
      ]
    },
    {
      "cell_type": "code",
      "source": [
        "class Animal:\n",
        "    __name = None\n",
        "    __height = None\n",
        "    __weight = None\n",
        "    __sound = None\n",
        "    def __init__(self, name, height, weight, sound):\n",
        "        self.__name = name\n",
        "        self.__height = height\n",
        "        self.__weight = weight\n",
        "        self.__sound = sound\n",
        "\n",
        "    def set_name(self, name):\n",
        "        self.__name = name\n",
        "\n",
        "    def set_height(self, height):\n",
        "        self.__height = height\n",
        "\n",
        "    def set_weight(self, height):\n",
        "        self.__height = height\n",
        "\n",
        "    def set_sound(self, sound):\n",
        "        self.__sound = sound\n",
        "\n",
        "    def get_name(self):\n",
        "        return self.__name\n",
        "\n",
        "    def get_height(self):\n",
        "        return str(self.__height)\n",
        "\n",
        "    def get_weight(self):\n",
        "        return str(self.__weight)\n",
        "\n",
        "    def get_sound(self):\n",
        "        return self.__sound\n",
        "\n",
        "    def get_type(self):\n",
        "        print(\"Animal\")\n",
        "\n",
        "    def toString(self):\n",
        "        return \"{} is {} cm tall and {} kilograms and says {}\".format(self.__name, self.__height, self.__weight, self.__sound)\n",
        "\n",
        "class Dog(Animal):\n",
        "    __owner = None\n",
        "\n",
        "    def __init__(self, name, height, weight, sound, owner):\n",
        "        self.__owner = owner\n",
        "        self.__animal_type = None\n",
        "\n",
        "        super(Dog, self).__init__(name, height, weight, sound)\n",
        "\n",
        "    def set_owner(self, owner):\n",
        "        self.__owner = owner\n",
        "\n",
        "    def get_owner(self):\n",
        "        return self.__owner\n",
        "\n",
        "    def get_type(self):\n",
        "        print (\"Dog\")\n",
        "\n",
        "    def toString(self):\n",
        "        return \"{} is {} cm tall and {} kilograms and says {}. His owner is {}\".format(self.get_name(), self.get_height(), self.get_weight(), self.get_sound(), self.__owner)\n",
        "\n",
        "    def multiple_sounds(self, how_many=None):\n",
        "        if how_many is None:\n",
        "            print(self.get_sound)\n",
        "        else:\n",
        "            print(self.get_sound() * how_many)\n",
        "\n",
        "spot = Dog(\"Spot\", 53, 27, \"Ruff\", \"Derek\")\n",
        "\n",
        "print(spot.toString())\n",
        "\n",
        "class AnimalTesting:\n",
        "    def get_type(self, animal):\n",
        "        animal.get_type()\n",
        "\n",
        "test_animals = AnimalTesting()\n",
        "\n",
        "test_animals.get_type(cat)\n",
        "test_animals.get_type(spot)\n",
        "\n",
        "spot.multiple_sounds(4)"
      ],
      "metadata": {
        "colab": {
          "base_uri": "https://localhost:8080/"
        },
        "id": "gjoOqfDprGML",
        "outputId": "611b5041-a9bf-40ed-c2d1-85173b2935d3"
      },
      "execution_count": null,
      "outputs": [
        {
          "output_type": "stream",
          "name": "stdout",
          "text": [
            "Spot is 53 cm tall and 27 kilograms and says Ruff. His owner is Derek\n",
            "Animal\n",
            "Dog\n",
            "RuffRuffRuffRuff\n"
          ]
        }
      ]
    },
    {
      "cell_type": "markdown",
      "source": [
        "#Features of advanced colab tutorials"
      ],
      "metadata": {
        "id": "-Xe5dHCM-BG4"
      }
    },
    {
      "cell_type": "code",
      "source": [
        "#downloading the zip file\n",
        "!wget -q  /content/archive.zip\n"
      ],
      "metadata": {
        "id": "qbIDO_EZ-TL8"
      },
      "execution_count": null,
      "outputs": []
    },
    {
      "cell_type": "code",
      "source": [
        "from google.colab import drive\n",
        "drive.mount('mount')\n",
        "!cp mount/My\\ Drive/data.csv"
      ],
      "metadata": {
        "colab": {
          "base_uri": "https://localhost:8080/"
        },
        "id": "7eT6iUoVBzu_",
        "outputId": "dc4703da-d9f2-465a-fe63-80864c8975fb"
      },
      "execution_count": null,
      "outputs": [
        {
          "output_type": "stream",
          "name": "stdout",
          "text": [
            "Drive already mounted at mount; to attempt to forcibly remount, call drive.mount(\"mount\", force_remount=True).\n",
            "cp: missing destination file operand after 'mount/My Drive/data.csv'\n",
            "Try 'cp --help' for more information.\n"
          ]
        }
      ]
    },
    {
      "cell_type": "code",
      "source": [
        "open('/content/mount/MyDrive/data.csv','w')"
      ],
      "metadata": {
        "colab": {
          "base_uri": "https://localhost:8080/"
        },
        "id": "LTSHYHZNDQkp",
        "outputId": "c8f5f4ea-5795-454d-cf29-65adc2086df9"
      },
      "execution_count": null,
      "outputs": [
        {
          "output_type": "execute_result",
          "data": {
            "text/plain": [
              "<_io.TextIOWrapper name='/content/mount/MyDrive/data.csv' mode='w' encoding='UTF-8'>"
            ]
          },
          "metadata": {},
          "execution_count": 90
        }
      ]
    },
    {
      "cell_type": "code",
      "source": [
        "!gdown --id 0B7EVK8r0v71pZjFTYXZWM3F1RNM # download public file"
      ],
      "metadata": {
        "colab": {
          "base_uri": "https://localhost:8080/"
        },
        "id": "qWk6l7uYFC7Q",
        "outputId": "47d54a7a-fa1c-4ee9-c849-a78c3dd9566f"
      },
      "execution_count": null,
      "outputs": [
        {
          "output_type": "stream",
          "name": "stdout",
          "text": [
            "/usr/local/lib/python3.10/dist-packages/gdown/__main__.py:132: FutureWarning: Option `--id` was deprecated in version 4.3.1 and will be removed in 5.0. You don't need to pass it anymore to use a file ID.\n",
            "  warnings.warn(\n",
            "Failed to retrieve file url:\n",
            "\n",
            "\tCannot retrieve the public link of the file. You may need to change\n",
            "\tthe permission to 'Anyone with the link', or have had many accesses.\n",
            "\tCheck FAQ in https://github.com/wkentaro/gdown?tab=readme-ov-file#faq.\n",
            "\n",
            "You may still be able to access the file from the browser:\n",
            "\n",
            "\thttps://drive.google.com/uc?id=0B7EVK8r0v71pZjFTYXZWM3F1RNM\n",
            "\n",
            "but Gdown can't. Please check connections and permissions.\n"
          ]
        }
      ]
    },
    {
      "cell_type": "code",
      "source": [
        "!ls -al *.zip #list all zip files"
      ],
      "metadata": {
        "colab": {
          "base_uri": "https://localhost:8080/"
        },
        "id": "tGl6StvDFVvb",
        "outputId": "511e7b7a-5112-4559-f0d7-adff5423df47"
      },
      "execution_count": null,
      "outputs": [
        {
          "output_type": "stream",
          "name": "stdout",
          "text": [
            "ls: cannot access '*.zip': No such file or directory\n"
          ]
        }
      ]
    },
    {
      "cell_type": "code",
      "source": [
        "from google.colab import auth\n",
        "auth.authenticate_user() # to authenticate other user"
      ],
      "metadata": {
        "id": "sWPcwCrVFZDu"
      },
      "execution_count": null,
      "outputs": []
    },
    {
      "cell_type": "code",
      "source": [
        "fid='1UIrD5_I3OXrjeXAM1IVKQ7y2IOdAOA_T?usp=drive_link'"
      ],
      "metadata": {
        "id": "BwiSgKWRHt7L"
      },
      "execution_count": null,
      "outputs": []
    },
    {
      "cell_type": "code",
      "source": [
        "def fl(fid):\n",
        "  from googleapiclient.discovery import build_from_document\n",
        "  gdrive=build('drive',v3).files()\n",
        "  res = gdrive.list(q=\"'%s' in parents\" % folder_id).execute()\n",
        "  return [f['id'] for f in res['files']]"
      ],
      "metadata": {
        "id": "tM1mOI8xHv_1"
      },
      "execution_count": null,
      "outputs": []
    },
    {
      "cell_type": "code",
      "source": [
        "def f(fid):\n",
        "  for i in fl(fid):\n",
        "    !gdown -q --id $fid"
      ],
      "metadata": {
        "id": "4RGKerZhFktv"
      },
      "execution_count": null,
      "outputs": []
    },
    {
      "cell_type": "code",
      "source": [
        "!pip freeze"
      ],
      "metadata": {
        "colab": {
          "base_uri": "https://localhost:8080/"
        },
        "id": "p5zsq6yEKTwI",
        "outputId": "ad841af5-e66a-471d-b855-78eea9c78d2f"
      },
      "execution_count": null,
      "outputs": [
        {
          "output_type": "stream",
          "name": "stdout",
          "text": [
            "absl-py==1.4.0\n",
            "accelerate==0.33.0\n",
            "aiohappyeyeballs==2.4.0\n",
            "aiohttp==3.10.5\n",
            "aiosignal==1.3.1\n",
            "alabaster==0.7.16\n",
            "albucore==0.0.14\n",
            "albumentations==1.4.14\n",
            "altair==4.2.2\n",
            "annotated-types==0.7.0\n",
            "anyio==3.7.1\n",
            "argon2-cffi==23.1.0\n",
            "argon2-cffi-bindings==21.2.0\n",
            "array_record==0.5.1\n",
            "arviz==0.18.0\n",
            "asn1crypto==1.5.1\n",
            "astropy==6.1.3\n",
            "astropy-iers-data==0.2024.8.27.10.28.29\n",
            "astunparse==1.6.3\n",
            "async-timeout==4.0.3\n",
            "atpublic==4.1.0\n",
            "attrs==24.2.0\n",
            "audioread==3.0.1\n",
            "autograd==1.7.0\n",
            "babel==2.16.0\n",
            "backcall==0.2.0\n",
            "beautifulsoup4==4.12.3\n",
            "bidict==0.23.1\n",
            "bigframes==1.15.0\n",
            "bigquery-magics==0.2.0\n",
            "bleach==6.1.0\n",
            "blinker==1.4\n",
            "blis==0.7.11\n",
            "blosc2==2.0.0\n",
            "bokeh==3.4.3\n",
            "bqplot==0.12.43\n",
            "branca==0.7.2\n",
            "build==1.2.1\n",
            "CacheControl==0.14.0\n",
            "cachetools==5.5.0\n",
            "catalogue==2.0.10\n",
            "certifi==2024.8.30\n",
            "cffi==1.17.0\n",
            "chardet==5.2.0\n",
            "charset-normalizer==3.3.2\n",
            "chex==0.1.86\n",
            "clarabel==0.9.0\n",
            "click==8.1.7\n",
            "click-plugins==1.1.1\n",
            "cligj==0.7.2\n",
            "cloudpathlib==0.19.0\n",
            "cloudpickle==2.2.1\n",
            "cmake==3.30.2\n",
            "cmdstanpy==1.2.4\n",
            "colorcet==3.1.0\n",
            "colorlover==0.3.0\n",
            "colour==0.1.5\n",
            "community==1.0.0b1\n",
            "confection==0.1.5\n",
            "cons==0.4.6\n",
            "contextlib2==21.6.0\n",
            "contourpy==1.3.0\n",
            "cryptography==43.0.0\n",
            "cuda-python==12.2.1\n",
            "cudf-cu12 @ https://pypi.nvidia.com/cudf-cu12/cudf_cu12-24.4.1-cp310-cp310-manylinux_2_28_x86_64.whl#sha256=57366e7ef09dc63e0b389aff20df6c37d91e2790065861ee31a4720149f5b694\n",
            "cufflinks==0.17.3\n",
            "cupy-cuda12x==12.2.0\n",
            "cvxopt==1.3.2\n",
            "cvxpy==1.5.3\n",
            "cycler==0.12.1\n",
            "cymem==2.0.8\n",
            "Cython==3.0.11\n",
            "dask==2024.7.1\n",
            "datascience==0.17.6\n",
            "db-dtypes==1.3.0\n",
            "dbus-python==1.2.18\n",
            "debugpy==1.6.6\n",
            "decorator==4.4.2\n",
            "defusedxml==0.7.1\n",
            "distributed==2024.7.1\n",
            "distro==1.7.0\n",
            "dlib==19.24.2\n",
            "dm-tree==0.1.8\n",
            "docstring_parser==0.16\n",
            "docutils==0.18.1\n",
            "dopamine_rl==4.0.9\n",
            "duckdb==0.10.3\n",
            "earthengine-api==0.1.418\n",
            "easydict==1.13\n",
            "ecos==2.0.14\n",
            "editdistance==0.8.1\n",
            "eerepr==0.0.4\n",
            "einops==0.8.0\n",
            "en-core-web-sm @ https://github.com/explosion/spacy-models/releases/download/en_core_web_sm-3.7.1/en_core_web_sm-3.7.1-py3-none-any.whl#sha256=86cc141f63942d4b2c5fcee06630fd6f904788d2f0ab005cce45aadb8fb73889\n",
            "entrypoints==0.4\n",
            "et-xmlfile==1.1.0\n",
            "etils==1.7.0\n",
            "etuples==0.3.9\n",
            "eval_type_backport==0.2.0\n",
            "exceptiongroup==1.2.2\n",
            "fastai==2.7.17\n",
            "fastcore==1.7.1\n",
            "fastdownload==0.0.7\n",
            "fastjsonschema==2.20.0\n",
            "fastprogress==1.0.3\n",
            "fastrlock==0.8.2\n",
            "filelock==3.15.4\n",
            "fiona==1.9.6\n",
            "firebase-admin==6.5.0\n",
            "Flask==2.2.5\n",
            "flatbuffers==24.3.25\n",
            "flax==0.8.4\n",
            "folium==0.17.0\n",
            "fonttools==4.53.1\n",
            "frozendict==2.4.4\n",
            "frozenlist==1.4.1\n",
            "fsspec==2024.6.1\n",
            "future==1.0.0\n",
            "gast==0.6.0\n",
            "gcsfs==2024.6.1\n",
            "GDAL==3.6.4\n",
            "gdown==5.1.0\n",
            "geemap==0.34.0\n",
            "gensim==4.3.3\n",
            "geocoder==1.38.1\n",
            "geographiclib==2.0\n",
            "geopandas==0.14.4\n",
            "geopy==2.4.1\n",
            "gin-config==0.5.0\n",
            "glob2==0.7\n",
            "google==2.0.3\n",
            "google-ai-generativelanguage==0.6.6\n",
            "google-api-core==2.19.2\n",
            "google-api-python-client==2.137.0\n",
            "google-auth==2.27.0\n",
            "google-auth-httplib2==0.2.0\n",
            "google-auth-oauthlib==1.2.1\n",
            "google-cloud-aiplatform==1.64.0\n",
            "google-cloud-bigquery==3.25.0\n",
            "google-cloud-bigquery-connection==1.15.5\n",
            "google-cloud-bigquery-storage==2.25.0\n",
            "google-cloud-bigtable==2.26.0\n",
            "google-cloud-core==2.4.1\n",
            "google-cloud-datastore==2.19.0\n",
            "google-cloud-firestore==2.16.1\n",
            "google-cloud-functions==1.16.5\n",
            "google-cloud-iam==2.15.2\n",
            "google-cloud-language==2.13.4\n",
            "google-cloud-pubsub==2.23.0\n",
            "google-cloud-resource-manager==1.12.5\n",
            "google-cloud-storage==2.8.0\n",
            "google-cloud-translate==3.15.5\n",
            "google-colab @ file:///colabtools/dist/google_colab-1.0.0.tar.gz#sha256=bc44566644911149dfef762158f18940d386952e18789291c8114ca38fd8e65a\n",
            "google-crc32c==1.5.0\n",
            "google-generativeai==0.7.2\n",
            "google-pasta==0.2.0\n",
            "google-resumable-media==2.7.2\n",
            "googleapis-common-protos==1.65.0\n",
            "googledrivedownloader==0.4\n",
            "graphviz==0.20.3\n",
            "greenlet==3.0.3\n",
            "grpc-google-iam-v1==0.13.1\n",
            "grpcio==1.64.1\n",
            "grpcio-status==1.48.2\n",
            "gspread==6.0.2\n",
            "gspread-dataframe==3.3.1\n",
            "gym==0.25.2\n",
            "gym-notices==0.0.8\n",
            "h5netcdf==1.3.0\n",
            "h5py==3.11.0\n",
            "holidays==0.55\n",
            "holoviews==1.18.3\n",
            "html5lib==1.1\n",
            "httpimport==1.3.1\n",
            "httplib2==0.22.0\n",
            "huggingface-hub==0.24.6\n",
            "humanize==4.10.0\n",
            "hyperopt==0.2.7\n",
            "ibis-framework==8.0.0\n",
            "idna==3.8\n",
            "imageio==2.34.2\n",
            "imageio-ffmpeg==0.5.1\n",
            "imagesize==1.4.1\n",
            "imbalanced-learn==0.12.3\n",
            "imgaug==0.4.0\n",
            "immutabledict==4.2.0\n",
            "importlib_metadata==8.4.0\n",
            "importlib_resources==6.4.4\n",
            "imutils==0.5.4\n",
            "inflect==7.3.1\n",
            "iniconfig==2.0.0\n",
            "intel-cmplr-lib-ur==2024.2.1\n",
            "intel-openmp==2024.2.1\n",
            "ipyevents==2.0.2\n",
            "ipyfilechooser==0.6.0\n",
            "ipykernel==5.5.6\n",
            "ipyleaflet==0.18.2\n",
            "ipyparallel==8.8.0\n",
            "ipython==7.34.0\n",
            "ipython-genutils==0.2.0\n",
            "ipython-sql==0.5.0\n",
            "ipytree==0.2.2\n",
            "ipywidgets==7.7.1\n",
            "itsdangerous==2.2.0\n",
            "jax==0.4.26\n",
            "jaxlib @ https://storage.googleapis.com/jax-releases/cuda12/jaxlib-0.4.26+cuda12.cudnn89-cp310-cp310-manylinux2014_x86_64.whl#sha256=813cf1fe3e7ca4dbf5327d6e7b4fc8521e92d8bba073ee645ae0d5d036a25750\n",
            "jeepney==0.7.1\n",
            "jellyfish==1.1.0\n",
            "jieba==0.42.1\n",
            "Jinja2==3.1.4\n",
            "joblib==1.4.2\n",
            "jsonpickle==3.2.2\n",
            "jsonschema==4.23.0\n",
            "jsonschema-specifications==2023.12.1\n",
            "jupyter-client==6.1.12\n",
            "jupyter-console==6.1.0\n",
            "jupyter-server==1.24.0\n",
            "jupyter_core==5.7.2\n",
            "jupyterlab_pygments==0.3.0\n",
            "jupyterlab_widgets==3.0.13\n",
            "kaggle==1.6.17\n",
            "kagglehub==0.2.9\n",
            "keras==3.4.1\n",
            "keyring==23.5.0\n",
            "kiwisolver==1.4.5\n",
            "langcodes==3.4.0\n",
            "language_data==1.2.0\n",
            "launchpadlib==1.10.16\n",
            "lazr.restfulclient==0.14.4\n",
            "lazr.uri==1.0.6\n",
            "lazy_loader==0.4\n",
            "libclang==18.1.1\n",
            "librosa==0.10.2.post1\n",
            "lightgbm==4.4.0\n",
            "linkify-it-py==2.0.3\n",
            "llvmlite==0.43.0\n",
            "locket==1.0.0\n",
            "logical-unification==0.4.6\n",
            "lxml==4.9.4\n",
            "malloy==2024.1091\n",
            "marisa-trie==1.2.0\n",
            "Markdown==3.7\n",
            "markdown-it-py==3.0.0\n",
            "MarkupSafe==2.1.5\n",
            "matplotlib==3.7.1\n",
            "matplotlib-inline==0.1.7\n",
            "matplotlib-venn==0.11.10\n",
            "mdit-py-plugins==0.4.1\n",
            "mdurl==0.1.2\n",
            "miniKanren==1.0.3\n",
            "missingno==0.5.2\n",
            "mistune==0.8.4\n",
            "mizani==0.9.3\n",
            "mkl==2024.2.1\n",
            "ml-dtypes==0.4.0\n",
            "mlxtend==0.23.1\n",
            "more-itertools==10.3.0\n",
            "moviepy==1.0.3\n",
            "mpmath==1.3.0\n",
            "msgpack==1.0.8\n",
            "multidict==6.0.5\n",
            "multipledispatch==1.0.0\n",
            "multitasking==0.0.11\n",
            "murmurhash==1.0.10\n",
            "music21==9.1.0\n",
            "namex==0.0.8\n",
            "natsort==8.4.0\n",
            "nbclassic==1.1.0\n",
            "nbclient==0.10.0\n",
            "nbconvert==6.5.4\n",
            "nbformat==5.10.4\n",
            "nest-asyncio==1.6.0\n",
            "networkx==3.3\n",
            "nibabel==5.0.1\n",
            "nltk==3.8.1\n",
            "notebook==6.5.5\n",
            "notebook_shim==0.2.4\n",
            "numba==0.60.0\n",
            "numexpr==2.10.1\n",
            "numpy==1.26.4\n",
            "nvidia-nccl-cu12==2.22.3\n",
            "nvtx==0.2.10\n",
            "oauth2client==4.1.3\n",
            "oauthlib==3.2.2\n",
            "opencv-contrib-python==4.10.0.84\n",
            "opencv-python==4.10.0.84\n",
            "opencv-python-headless==4.10.0.84\n",
            "openpyxl==3.1.5\n",
            "opt-einsum==3.3.0\n",
            "optax==0.2.2\n",
            "optree==0.12.1\n",
            "orbax-checkpoint==0.6.1\n",
            "osqp==0.6.7.post0\n",
            "packaging==24.1\n",
            "pandas==2.1.4\n",
            "pandas-datareader==0.10.0\n",
            "pandas-gbq==0.23.1\n",
            "pandas-stubs==2.1.4.231227\n",
            "pandocfilters==1.5.1\n",
            "panel==1.4.5\n",
            "param==2.1.1\n",
            "parso==0.8.4\n",
            "parsy==2.1\n",
            "partd==1.4.2\n",
            "pathlib==1.0.1\n",
            "patsy==0.5.6\n",
            "peewee==3.17.6\n",
            "pexpect==4.9.0\n",
            "pickleshare==0.7.5\n",
            "Pillow==9.4.0\n",
            "pip-tools==7.4.1\n",
            "platformdirs==4.2.2\n",
            "plotly==5.15.0\n",
            "plotnine==0.12.4\n",
            "pluggy==1.5.0\n",
            "polars==0.20.2\n",
            "pooch==1.8.2\n",
            "portpicker==1.5.2\n",
            "prefetch_generator==1.0.3\n",
            "preshed==3.0.9\n",
            "prettytable==3.11.0\n",
            "proglog==0.1.10\n",
            "progressbar2==4.2.0\n",
            "prometheus_client==0.20.0\n",
            "promise==2.3\n",
            "prompt_toolkit==3.0.47\n",
            "prophet==1.1.5\n",
            "proto-plus==1.24.0\n",
            "protobuf==3.20.3\n",
            "psutil==5.9.5\n",
            "psycopg2==2.9.9\n",
            "ptyprocess==0.7.0\n",
            "py-cpuinfo==9.0.0\n",
            "py4j==0.10.9.7\n",
            "pyarrow==14.0.2\n",
            "pyarrow-hotfix==0.6\n",
            "pyasn1==0.6.0\n",
            "pyasn1_modules==0.4.0\n",
            "pycocotools==2.0.8\n",
            "pycparser==2.22\n",
            "pydantic==2.8.2\n",
            "pydantic_core==2.20.1\n",
            "pydata-google-auth==1.8.2\n",
            "pydot==1.4.2\n",
            "pydot-ng==2.0.0\n",
            "pydotplus==2.0.2\n",
            "PyDrive==1.3.1\n",
            "PyDrive2==1.6.3\n",
            "pyerfa==2.0.1.4\n",
            "pygame==2.6.0\n",
            "Pygments==2.16.1\n",
            "PyGObject==3.42.1\n",
            "PyJWT==2.9.0\n",
            "pymc==5.10.4\n",
            "pymystem3==0.2.0\n",
            "pynvjitlink-cu12==0.3.0\n",
            "PyOpenGL==3.1.7\n",
            "pyOpenSSL==24.2.1\n",
            "pyparsing==3.1.4\n",
            "pyperclip==1.9.0\n",
            "pyproj==3.6.1\n",
            "pyproject_hooks==1.1.0\n",
            "pyshp==2.3.1\n",
            "PySocks==1.7.1\n",
            "pytensor==2.18.6\n",
            "pytest==7.4.4\n",
            "python-apt==2.4.0\n",
            "python-box==7.2.0\n",
            "python-dateutil==2.8.2\n",
            "python-louvain==0.16\n",
            "python-slugify==8.0.4\n",
            "python-utils==3.8.2\n",
            "pytz==2024.1\n",
            "pyviz_comms==3.0.3\n",
            "PyYAML==6.0.2\n",
            "pyzmq==24.0.1\n",
            "qdldl==0.1.7.post4\n",
            "ratelim==0.1.6\n",
            "referencing==0.35.1\n",
            "regex==2024.5.15\n",
            "requests==2.32.3\n",
            "requests-oauthlib==1.3.1\n",
            "requirements-parser==0.9.0\n",
            "rich==13.8.0\n",
            "rmm-cu12==24.4.0\n",
            "rpds-py==0.20.0\n",
            "rpy2==3.4.2\n",
            "rsa==4.9\n",
            "safetensors==0.4.4\n",
            "scikit-image==0.23.2\n",
            "scikit-learn==1.3.2\n",
            "scipy==1.13.1\n",
            "scooby==0.10.0\n",
            "scs==3.2.7\n",
            "seaborn==0.13.1\n",
            "SecretStorage==3.3.1\n",
            "Send2Trash==1.8.3\n",
            "sentencepiece==0.1.99\n",
            "shapely==2.0.6\n",
            "shellingham==1.5.4\n",
            "simple_parsing==0.1.5\n",
            "six==1.16.0\n",
            "sklearn-pandas==2.2.0\n",
            "smart-open==7.0.4\n",
            "sniffio==1.3.1\n",
            "snowballstemmer==2.2.0\n",
            "snowflake-connector-python==3.12.1\n",
            "sortedcontainers==2.4.0\n",
            "soundfile==0.12.1\n",
            "soupsieve==2.6\n",
            "soxr==0.5.0\n",
            "spacy==3.7.6\n",
            "spacy-legacy==3.0.12\n",
            "spacy-loggers==1.0.5\n",
            "Sphinx==5.0.2\n",
            "sphinxcontrib-applehelp==2.0.0\n",
            "sphinxcontrib-devhelp==2.0.0\n",
            "sphinxcontrib-htmlhelp==2.1.0\n",
            "sphinxcontrib-jsmath==1.0.1\n",
            "sphinxcontrib-qthelp==2.0.0\n",
            "sphinxcontrib-serializinghtml==2.0.0\n",
            "SQLAlchemy==2.0.32\n",
            "sqlglot==20.11.0\n",
            "sqlparse==0.5.1\n",
            "srsly==2.4.8\n",
            "stanio==0.5.1\n",
            "statsmodels==0.14.2\n",
            "StrEnum==0.4.15\n",
            "sympy==1.13.2\n",
            "tables==3.8.0\n",
            "tabulate==0.9.0\n",
            "tbb==2021.13.1\n",
            "tblib==3.0.0\n",
            "tenacity==9.0.0\n",
            "tensorboard==2.17.0\n",
            "tensorboard-data-server==0.7.2\n",
            "tensorflow==2.17.0\n",
            "tensorflow-datasets==4.9.6\n",
            "tensorflow-hub==0.16.1\n",
            "tensorflow-io-gcs-filesystem==0.37.1\n",
            "tensorflow-metadata==1.15.0\n",
            "tensorflow-probability==0.24.0\n",
            "tensorstore==0.1.64\n",
            "termcolor==2.4.0\n",
            "terminado==0.18.1\n",
            "text-unidecode==1.3\n",
            "textblob==0.17.1\n",
            "tf-slim==1.1.0\n",
            "tf_keras==2.17.0\n",
            "thinc==8.2.5\n",
            "threadpoolctl==3.5.0\n",
            "tifffile==2024.8.28\n",
            "tinycss2==1.3.0\n",
            "tokenizers==0.19.1\n",
            "toml==0.10.2\n",
            "tomli==2.0.1\n",
            "tomlkit==0.13.2\n",
            "toolz==0.12.1\n",
            "torch @ https://download.pytorch.org/whl/cu121_full/torch-2.4.0%2Bcu121-cp310-cp310-linux_x86_64.whl#sha256=6f3aabcec8b7728943d22bec2d8017b1bd2d69cd903eefb7dd3a373e4f779c40\n",
            "torchaudio @ https://download.pytorch.org/whl/cu121_full/torchaudio-2.4.0%2Bcu121-cp310-cp310-linux_x86_64.whl#sha256=8bc4c22a701f4567a15cc98ff48c392147583b9ec4157d147025f297bf305acc\n",
            "torchsummary==1.5.1\n",
            "torchvision @ https://download.pytorch.org/whl/cu121_full/torchvision-0.19.0%2Bcu121-cp310-cp310-linux_x86_64.whl#sha256=53c7ee4a98c8464ec964a6ab3804f5925b19bac698ef728f148bffebe27a9081\n",
            "tornado==6.3.3\n",
            "tqdm==4.66.5\n",
            "traitlets==5.7.1\n",
            "traittypes==0.2.1\n",
            "transformers==4.44.2\n",
            "tweepy==4.14.0\n",
            "typeguard==4.3.0\n",
            "typer==0.12.5\n",
            "types-pytz==2024.1.0.20240417\n",
            "types-setuptools==74.0.0.20240831\n",
            "typing_extensions==4.12.2\n",
            "tzdata==2024.1\n",
            "tzlocal==5.2\n",
            "uc-micro-py==1.0.3\n",
            "uritemplate==4.1.1\n",
            "urllib3==2.0.7\n",
            "vega-datasets==0.9.0\n",
            "wadllib==1.3.6\n",
            "wasabi==1.1.3\n",
            "wcwidth==0.2.13\n",
            "weasel==0.4.1\n",
            "webcolors==24.8.0\n",
            "webencodings==0.5.1\n",
            "websocket-client==1.8.0\n",
            "Werkzeug==3.0.4\n",
            "widgetsnbextension==3.6.8\n",
            "wordcloud==1.9.3\n",
            "wrapt==1.16.0\n",
            "xarray==2024.6.0\n",
            "xarray-einstats==0.7.0\n",
            "xgboost==2.1.1\n",
            "xlrd==2.0.1\n",
            "xyzservices==2024.6.0\n",
            "yarl==1.9.4\n",
            "yellowbrick==1.5\n",
            "yfinance==0.2.43\n",
            "zict==3.0.0\n",
            "zipp==3.20.1\n"
          ]
        }
      ]
    },
    {
      "cell_type": "code",
      "source": [
        "\n",
        "!wget -c https://repo.continuum.io/archive/Anaconda3-5.2.0-Linux-x86_64.sh\n",
        "!chmod +x Anaconda3-5.2.0-Linux-x86_64.sh\n",
        "!bash ./Anaconda3-5.2.0-Linux-x86_64.sh -b -f -p /usr/local\n",
        "!conda install -q -y prefix /usr/local -c pytorch faiss-cpu\n",
        "import sys\n",
        "sys.path.append('/usr/local/lib/python3.6/site-packages/')"
      ],
      "metadata": {
        "colab": {
          "base_uri": "https://localhost:8080/"
        },
        "id": "3FSD8MXMMXPE",
        "outputId": "42735f7f-166a-4452-b4e3-7a7b97fcff3b"
      },
      "execution_count": null,
      "outputs": [
        {
          "output_type": "stream",
          "name": "stdout",
          "text": [
            "--2024-09-09 05:19:28--  https://repo.continuum.io/archive/Anaconda3-5.2.0-Linux-x86_64.sh\n",
            "Resolving repo.continuum.io (repo.continuum.io)... 104.18.177.84, 104.18.176.84, 2606:4700::6812:b154, ...\n",
            "Connecting to repo.continuum.io (repo.continuum.io)|104.18.177.84|:443... connected.\n",
            "HTTP request sent, awaiting response... 301 Moved Permanently\n",
            "Location: https://repo.anaconda.com/archive/Anaconda3-5.2.0-Linux-x86_64.sh [following]\n",
            "--2024-09-09 05:19:28--  https://repo.anaconda.com/archive/Anaconda3-5.2.0-Linux-x86_64.sh\n",
            "Resolving repo.anaconda.com (repo.anaconda.com)... 104.16.191.158, 104.16.32.241, 2606:4700::6810:20f1, ...\n",
            "Connecting to repo.anaconda.com (repo.anaconda.com)|104.16.191.158|:443... connected.\n",
            "HTTP request sent, awaiting response... 200 OK\n",
            "Length: 651745206 (622M) [application/x-sh]\n",
            "Saving to: ‘Anaconda3-5.2.0-Linux-x86_64.sh’\n",
            "\n",
            "Anaconda3-5.2.0-Lin 100%[===================>] 621.55M  53.9MB/s    in 11s     \n",
            "\n",
            "2024-09-09 05:19:39 (57.7 MB/s) - ‘Anaconda3-5.2.0-Linux-x86_64.sh’ saved [651745206/651745206]\n",
            "\n",
            "PREFIX=/usr/local\n",
            "installing: python-3.6.5-hc3d631a_2 ...\n",
            "Python 3.6.5 :: Anaconda, Inc.\n",
            "installing: blas-1.0-mkl ...\n",
            "installing: ca-certificates-2018.03.07-0 ...\n",
            "installing: conda-env-2.6.0-h36134e3_1 ...\n",
            "installing: intel-openmp-2018.0.0-8 ...\n",
            "installing: libgcc-ng-7.2.0-hdf63c60_3 ...\n",
            "installing: libgfortran-ng-7.2.0-hdf63c60_3 ...\n",
            "installing: libstdcxx-ng-7.2.0-hdf63c60_3 ...\n",
            "installing: bzip2-1.0.6-h14c3975_5 ...\n",
            "installing: expat-2.2.5-he0dffb1_0 ...\n",
            "installing: gmp-6.1.2-h6c8ec71_1 ...\n",
            "installing: graphite2-1.3.11-h16798f4_2 ...\n",
            "installing: icu-58.2-h9c2bf20_1 ...\n",
            "installing: jbig-2.1-hdba287a_0 ...\n",
            "installing: jpeg-9b-h024ee3a_2 ...\n",
            "installing: libffi-3.2.1-hd88cf55_4 ...\n",
            "installing: libsodium-1.0.16-h1bed415_0 ...\n",
            "installing: libtool-2.4.6-h544aabb_3 ...\n",
            "installing: libxcb-1.13-h1bed415_1 ...\n",
            "installing: lzo-2.10-h49e0be7_2 ...\n",
            "installing: mkl-2018.0.2-1 ...\n",
            "installing: ncurses-6.1-hf484d3e_0 ...\n",
            "installing: openssl-1.0.2o-h20670df_0 ...\n",
            "installing: patchelf-0.9-hf79760b_2 ...\n",
            "installing: pcre-8.42-h439df22_0 ...\n",
            "installing: pixman-0.34.0-hceecf20_3 ...\n",
            "installing: snappy-1.1.7-hbae5bb6_3 ...\n",
            "installing: tk-8.6.7-hc745277_3 ...\n",
            "installing: unixodbc-2.3.6-h1bed415_0 ...\n",
            "installing: xz-5.2.4-h14c3975_4 ...\n",
            "installing: yaml-0.1.7-had09818_2 ...\n",
            "installing: zlib-1.2.11-ha838bed_2 ...\n",
            "installing: blosc-1.14.3-hdbcaa40_0 ...\n",
            "installing: glib-2.56.1-h000015b_0 ...\n",
            "installing: hdf5-1.10.2-hba1933b_1 ...\n",
            "installing: libedit-3.1.20170329-h6b74fdf_2 ...\n",
            "installing: libpng-1.6.34-hb9fc6fc_0 ...\n",
            "installing: libssh2-1.8.0-h9cfc8f7_4 ...\n",
            "installing: libtiff-4.0.9-he85c1e1_1 ...\n",
            "installing: libxml2-2.9.8-h26e45fe_1 ...\n",
            "installing: mpfr-3.1.5-h11a74b3_2 ...\n",
            "installing: pandoc-1.19.2.1-hea2e7c5_1 ...\n",
            "installing: readline-7.0-ha6073c6_4 ...\n",
            "installing: zeromq-4.2.5-h439df22_0 ...\n",
            "installing: dbus-1.13.2-h714fa37_1 ...\n",
            "installing: freetype-2.8-hab7d2ae_1 ...\n",
            "installing: gstreamer-1.14.0-hb453b48_1 ...\n",
            "installing: libcurl-7.60.0-h1ad7b7a_0 ...\n",
            "installing: libxslt-1.1.32-h1312cb7_0 ...\n",
            "installing: mpc-1.0.3-hec55b23_5 ...\n",
            "installing: sqlite-3.23.1-he433501_0 ...\n",
            "installing: curl-7.60.0-h84994c4_0 ...\n",
            "installing: fontconfig-2.12.6-h49f89f6_0 ...\n",
            "installing: gst-plugins-base-1.14.0-hbbd80ab_1 ...\n",
            "installing: alabaster-0.7.10-py36h306e16b_0 ...\n",
            "installing: asn1crypto-0.24.0-py36_0 ...\n",
            "installing: attrs-18.1.0-py36_0 ...\n",
            "installing: backcall-0.1.0-py36_0 ...\n",
            "installing: backports-1.0-py36hfa02d7e_1 ...\n",
            "installing: beautifulsoup4-4.6.0-py36h49b8c8c_1 ...\n",
            "installing: bitarray-0.8.1-py36h14c3975_1 ...\n",
            "installing: boto-2.48.0-py36h6e4cd66_1 ...\n",
            "installing: cairo-1.14.12-h7636065_2 ...\n",
            "installing: certifi-2018.4.16-py36_0 ...\n",
            "installing: chardet-3.0.4-py36h0f667ec_1 ...\n",
            "installing: click-6.7-py36h5253387_0 ...\n",
            "installing: cloudpickle-0.5.3-py36_0 ...\n",
            "installing: colorama-0.3.9-py36h489cec4_0 ...\n",
            "installing: contextlib2-0.5.5-py36h6c84a62_0 ...\n",
            "installing: dask-core-0.17.5-py36_0 ...\n",
            "installing: decorator-4.3.0-py36_0 ...\n",
            "installing: docutils-0.14-py36hb0f60f5_0 ...\n",
            "installing: entrypoints-0.2.3-py36h1aec115_2 ...\n",
            "installing: et_xmlfile-1.0.1-py36hd6bccc3_0 ...\n",
            "installing: fastcache-1.0.2-py36h14c3975_2 ...\n",
            "installing: filelock-3.0.4-py36_0 ...\n",
            "installing: glob2-0.6-py36he249c77_0 ...\n",
            "installing: gmpy2-2.0.8-py36hc8893dd_2 ...\n",
            "installing: greenlet-0.4.13-py36h14c3975_0 ...\n",
            "installing: heapdict-1.0.0-py36_2 ...\n",
            "installing: idna-2.6-py36h82fb2a8_1 ...\n",
            "installing: imagesize-1.0.0-py36_0 ...\n",
            "installing: ipython_genutils-0.2.0-py36hb52b0d5_0 ...\n",
            "installing: itsdangerous-0.24-py36h93cc618_1 ...\n",
            "installing: jdcal-1.4-py36_0 ...\n",
            "installing: kiwisolver-1.0.1-py36h764f252_0 ...\n",
            "installing: lazy-object-proxy-1.3.1-py36h10fcdad_0 ...\n",
            "installing: llvmlite-0.23.1-py36hdbcaa40_0 ...\n",
            "installing: locket-0.2.0-py36h787c0ad_1 ...\n",
            "installing: lxml-4.2.1-py36h23eabaa_0 ...\n",
            "installing: markupsafe-1.0-py36hd9260cd_1 ...\n",
            "installing: mccabe-0.6.1-py36h5ad9710_1 ...\n",
            "installing: mistune-0.8.3-py36h14c3975_1 ...\n",
            "installing: mkl-service-1.1.2-py36h17a0993_4 ...\n",
            "installing: mpmath-1.0.0-py36hfeacd6b_2 ...\n",
            "installing: msgpack-python-0.5.6-py36h6bb024c_0 ...\n",
            "installing: multipledispatch-0.5.0-py36_0 ...\n",
            "installing: numpy-base-1.14.3-py36h9be14a7_1 ...\n",
            "installing: olefile-0.45.1-py36_0 ...\n",
            "installing: pandocfilters-1.4.2-py36ha6701b7_1 ...\n",
            "installing: parso-0.2.0-py36_0 ...\n",
            "installing: path.py-11.0.1-py36_0 ...\n",
            "installing: pep8-1.7.1-py36_0 ...\n",
            "installing: pickleshare-0.7.4-py36h63277f8_0 ...\n",
            "installing: pkginfo-1.4.2-py36_1 ...\n",
            "installing: pluggy-0.6.0-py36hb689045_0 ...\n",
            "installing: ply-3.11-py36_0 ...\n",
            "installing: psutil-5.4.5-py36h14c3975_0 ...\n",
            "installing: ptyprocess-0.5.2-py36h69acd42_0 ...\n",
            "installing: py-1.5.3-py36_0 ...\n",
            "installing: pycodestyle-2.4.0-py36_0 ...\n",
            "installing: pycosat-0.6.3-py36h0a5515d_0 ...\n",
            "installing: pycparser-2.18-py36hf9f622e_1 ...\n",
            "installing: pycrypto-2.6.1-py36h14c3975_8 ...\n",
            "installing: pycurl-7.43.0.1-py36hb7f436b_0 ...\n",
            "installing: pyodbc-4.0.23-py36hf484d3e_0 ...\n",
            "installing: pyparsing-2.2.0-py36hee85983_1 ...\n",
            "installing: pysocks-1.6.8-py36_0 ...\n",
            "installing: pytz-2018.4-py36_0 ...\n",
            "installing: pyyaml-3.12-py36hafb9ca4_1 ...\n",
            "installing: pyzmq-17.0.0-py36h14c3975_0 ...\n",
            "installing: qt-5.9.5-h7e424d6_0 ...\n",
            "installing: qtpy-1.4.1-py36_0 ...\n",
            "installing: rope-0.10.7-py36h147e2ec_0 ...\n",
            "installing: ruamel_yaml-0.15.35-py36h14c3975_1 ...\n",
            "installing: send2trash-1.5.0-py36_0 ...\n",
            "installing: simplegeneric-0.8.1-py36_2 ...\n",
            "installing: sip-4.19.8-py36hf484d3e_0 ...\n",
            "installing: six-1.11.0-py36h372c433_1 ...\n",
            "installing: snowballstemmer-1.2.1-py36h6febd40_0 ...\n",
            "installing: sortedcontainers-1.5.10-py36_0 ...\n",
            "installing: sphinxcontrib-1.0-py36h6d0f590_1 ...\n",
            "installing: sqlalchemy-1.2.7-py36h6b74fdf_0 ...\n",
            "installing: tblib-1.3.2-py36h34cf8b6_0 ...\n",
            "installing: testpath-0.3.1-py36h8cadb63_0 ...\n",
            "installing: toolz-0.9.0-py36_0 ...\n",
            "installing: tornado-5.0.2-py36_0 ...\n",
            "installing: typing-3.6.4-py36_0 ...\n",
            "installing: unicodecsv-0.14.1-py36ha668878_0 ...\n",
            "installing: wcwidth-0.1.7-py36hdf4376a_0 ...\n",
            "installing: webencodings-0.5.1-py36h800622e_1 ...\n",
            "installing: werkzeug-0.14.1-py36_0 ...\n",
            "installing: wrapt-1.10.11-py36h28b7045_0 ...\n",
            "installing: xlrd-1.1.0-py36h1db9f0c_1 ...\n",
            "installing: xlsxwriter-1.0.4-py36_0 ...\n",
            "installing: xlwt-1.3.0-py36h7b00a1f_0 ...\n",
            "installing: babel-2.5.3-py36_0 ...\n",
            "installing: backports.shutil_get_terminal_size-1.0.0-py36hfea85ff_2 ...\n",
            "installing: cffi-1.11.5-py36h9745a5d_0 ...\n",
            "installing: conda-verify-2.0.0-py36h98955d8_0 ...\n",
            "installing: cycler-0.10.0-py36h93f1223_0 ...\n",
            "installing: cytoolz-0.9.0.1-py36h14c3975_0 ...\n",
            "installing: harfbuzz-1.7.6-h5f0a787_1 ...\n",
            "installing: html5lib-1.0.1-py36h2f9c1c0_0 ...\n",
            "installing: jedi-0.12.0-py36_1 ...\n",
            "installing: more-itertools-4.1.0-py36_0 ...\n",
            "installing: networkx-2.1-py36_0 ...\n",
            "installing: nltk-3.3.0-py36_0 ...\n",
            "installing: openpyxl-2.5.3-py36_0 ...\n",
            "installing: packaging-17.1-py36_0 ...\n",
            "installing: partd-0.3.8-py36h36fd896_0 ...\n",
            "installing: pathlib2-2.3.2-py36_0 ...\n",
            "installing: pexpect-4.5.0-py36_0 ...\n",
            "installing: pillow-5.1.0-py36h3deb7b8_0 ...\n",
            "installing: pyqt-5.9.2-py36h751905a_0 ...\n",
            "installing: python-dateutil-2.7.3-py36_0 ...\n",
            "installing: qtawesome-0.4.4-py36h609ed8c_0 ...\n",
            "installing: setuptools-39.1.0-py36_0 ...\n",
            "installing: singledispatch-3.4.0.3-py36h7a266c3_0 ...\n",
            "installing: sortedcollections-0.6.1-py36_0 ...\n",
            "installing: sphinxcontrib-websupport-1.0.1-py36hb5cb234_1 ...\n",
            "installing: sympy-1.1.1-py36hc6d1c1c_0 ...\n",
            "installing: terminado-0.8.1-py36_1 ...\n",
            "installing: traitlets-4.3.2-py36h674d592_0 ...\n",
            "installing: zict-0.1.3-py36h3a3bf81_0 ...\n",
            "installing: astroid-1.6.3-py36_0 ...\n",
            "installing: bleach-2.1.3-py36_0 ...\n",
            "installing: clyent-1.2.2-py36h7e57e65_1 ...\n",
            "installing: cryptography-2.2.2-py36h14c3975_0 ...\n",
            "installing: cython-0.28.2-py36h14c3975_0 ...\n",
            "installing: distributed-1.21.8-py36_0 ...\n",
            "installing: get_terminal_size-1.0.0-haa9412d_0 ...\n",
            "installing: gevent-1.3.0-py36h14c3975_0 ...\n",
            "installing: isort-4.3.4-py36_0 ...\n",
            "installing: jinja2-2.10-py36ha16c418_0 ...\n",
            "installing: jsonschema-2.6.0-py36h006f8b5_0 ...\n",
            "installing: jupyter_core-4.4.0-py36h7c827e3_0 ...\n",
            "installing: navigator-updater-0.2.1-py36_0 ...\n",
            "installing: nose-1.3.7-py36hcdf7029_2 ...\n",
            "installing: pango-1.41.0-hd475d92_0 ...\n",
            "installing: pyflakes-1.6.0-py36h7bd6a15_0 ...\n",
            "installing: pygments-2.2.0-py36h0d3125c_0 ...\n",
            "installing: pytest-3.5.1-py36_0 ...\n",
            "installing: wheel-0.31.1-py36_0 ...\n",
            "installing: flask-1.0.2-py36_1 ...\n",
            "installing: jupyter_client-5.2.3-py36_0 ...\n",
            "installing: nbformat-4.4.0-py36h31c9010_0 ...\n",
            "installing: pip-10.0.1-py36_0 ...\n",
            "installing: prompt_toolkit-1.0.15-py36h17d85b1_0 ...\n",
            "installing: pylint-1.8.4-py36_0 ...\n",
            "installing: pyopenssl-18.0.0-py36_0 ...\n",
            "installing: pytest-openfiles-0.3.0-py36_0 ...\n",
            "installing: pytest-remotedata-0.2.1-py36_0 ...\n",
            "installing: flask-cors-3.0.4-py36_0 ...\n",
            "installing: ipython-6.4.0-py36_0 ...\n",
            "installing: nbconvert-5.3.1-py36hb41ffb7_0 ...\n",
            "installing: urllib3-1.22-py36hbe7ace6_0 ...\n",
            "installing: ipykernel-4.8.2-py36_0 ...\n",
            "installing: requests-2.18.4-py36he2e5f8d_1 ...\n",
            "installing: anaconda-client-1.6.14-py36_0 ...\n",
            "installing: jupyter_console-5.2.0-py36he59e554_1 ...\n",
            "installing: notebook-5.5.0-py36_0 ...\n",
            "installing: qtconsole-4.3.1-py36h8f73b5b_0 ...\n",
            "installing: sphinx-1.7.4-py36_0 ...\n",
            "installing: anaconda-navigator-1.8.7-py36_0 ...\n",
            "installing: anaconda-project-0.8.2-py36h44fb852_0 ...\n",
            "installing: jupyterlab_launcher-0.10.5-py36_0 ...\n",
            "installing: numpydoc-0.8.0-py36_0 ...\n",
            "installing: widgetsnbextension-3.2.1-py36_0 ...\n",
            "installing: ipywidgets-7.2.1-py36_0 ...\n",
            "installing: jupyterlab-0.32.1-py36_0 ...\n",
            "installing: spyder-3.2.8-py36_0 ...\n",
            "installing: _ipyw_jlab_nb_ext_conf-0.1.0-py36he11e457_0 ...\n",
            "installing: jupyter-1.0.0-py36_4 ...\n",
            "installing: bokeh-0.12.16-py36_0 ...\n",
            "installing: bottleneck-1.2.1-py36haac1ea0_0 ...\n",
            "installing: conda-4.5.4-py36_0 ...\n",
            "installing: conda-build-3.10.5-py36_0 ...\n",
            "installing: datashape-0.5.4-py36h3ad6b5c_0 ...\n",
            "installing: h5py-2.7.1-py36ha1f6525_2 ...\n",
            "installing: imageio-2.3.0-py36_0 ...\n",
            "installing: matplotlib-2.2.2-py36h0e671d2_1 ...\n",
            "installing: mkl_fft-1.0.1-py36h3010b51_0 ...\n",
            "installing: mkl_random-1.0.1-py36h629b387_0 ...\n",
            "installing: numpy-1.14.3-py36hcd700cb_1 ...\n",
            "installing: numba-0.38.0-py36h637b7d7_0 ...\n",
            "installing: numexpr-2.6.5-py36h7bf3b9c_0 ...\n",
            "installing: pandas-0.23.0-py36h637b7d7_0 ...\n",
            "installing: pytest-arraydiff-0.2-py36_0 ...\n",
            "installing: pytest-doctestplus-0.1.3-py36_0 ...\n",
            "installing: pywavelets-0.5.2-py36he602eb0_0 ...\n",
            "installing: scipy-1.1.0-py36hfc37229_0 ...\n",
            "installing: bkcharts-0.2-py36h735825a_0 ...\n",
            "installing: dask-0.17.5-py36_0 ...\n",
            "installing: patsy-0.5.0-py36_0 ...\n",
            "installing: pytables-3.4.3-py36h02b9ad4_2 ...\n",
            "installing: pytest-astropy-0.3.0-py36_0 ...\n",
            "installing: scikit-learn-0.19.1-py36h7aa7ec6_0 ...\n",
            "installing: astropy-3.0.2-py36h3010b51_1 ...\n",
            "installing: odo-0.5.1-py36h90ed295_0 ...\n",
            "installing: scikit-image-0.13.1-py36h14c3975_1 ...\n",
            "installing: statsmodels-0.9.0-py36h3010b51_0 ...\n",
            "installing: blaze-0.11.3-py36h4e06776_0 ...\n",
            "installing: seaborn-0.8.1-py36hfad7ec4_0 ...\n",
            "installing: anaconda-5.2.0-py36_3 ...\n",
            "installation finished.\n",
            "WARNING:\n",
            "    You currently have a PYTHONPATH environment variable set. This may cause\n",
            "    unexpected behavior when running the Python interpreter in Anaconda3.\n",
            "    For best results, please verify that your PYTHONPATH only points to\n",
            "    directories of packages that are compatible with the Python interpreter\n",
            "    in Anaconda3: /usr/local\n",
            "usage: conda [-h] [-V] command ...\n",
            "conda: error: unrecognized arguments: faiss-cpu\n"
          ]
        }
      ]
    },
    {
      "cell_type": "code",
      "source": [
        "%load_ext rpy2.ipython"
      ],
      "metadata": {
        "id": "y2rY3sX5o0wA",
        "colab": {
          "base_uri": "https://localhost:8080/"
        },
        "outputId": "92485f7d-f220-4221-e2ca-40cd07d2cbfc"
      },
      "execution_count": null,
      "outputs": [
        {
          "output_type": "stream",
          "name": "stdout",
          "text": [
            "No Bottleneck unit testing available.\n"
          ]
        },
        {
          "output_type": "stream",
          "name": "stderr",
          "text": [
            "/usr/local/lib/python3.10/dist-packages/pandas/core/arrays/masked.py:62: UserWarning: Pandas requires version '1.3.4' or newer of 'bottleneck' (version '1.2.1' currently installed).\n",
            "  from pandas.core import (\n"
          ]
        }
      ]
    },
    {
      "cell_type": "code",
      "source": [
        "%%R\n",
        "x <- 42\n",
        "print(x)"
      ],
      "metadata": {
        "colab": {
          "base_uri": "https://localhost:8080/"
        },
        "id": "ui0VbtrIpL7R",
        "outputId": "b17a55f9-766f-46fb-a805-af95d1c82ad0"
      },
      "execution_count": null,
      "outputs": [
        {
          "output_type": "stream",
          "name": "stdout",
          "text": [
            "[1] 42\n"
          ]
        }
      ]
    },
    {
      "cell_type": "code",
      "source": [
        "def es(line=None, cell=\"\"):\n",
        "\tcell = re.sub (r' (?m) ^\\s*#.*\\n?', '', cell)\n",
        "\tlinel = (cell + '\\n').find('\\n')\n",
        "\tmethod, path = cell[:linel].split(None, 1)\n",
        "\tbody = cell[linel:].strip()\n",
        "\targs = {}\n",
        "\tif body:\n",
        "\t\targs['data'] = (body + '\\n').encode()\n",
        "\t\targs['headers'] = {'Content-Type': 'application/json'}\n",
        "\trsp= Session().send(Request (method,urljoin('http://localhost:9200', path).prepare()))\n",
        "\treturn rsp"
      ],
      "metadata": {
        "id": "Jx7Y4aULqYa5"
      },
      "execution_count": null,
      "outputs": []
    },
    {
      "cell_type": "code",
      "source": [
        "%load_ext rpy2.ipython"
      ],
      "metadata": {
        "colab": {
          "base_uri": "https://localhost:8080/"
        },
        "id": "2oevwOeHrHf_",
        "outputId": "6b6349be-fff5-4857-c8bc-b57a4f5c27a5"
      },
      "execution_count": null,
      "outputs": [
        {
          "output_type": "stream",
          "name": "stdout",
          "text": [
            "The rpy2.ipython extension is already loaded. To reload it, use:\n",
            "  %reload_ext rpy2.ipython\n"
          ]
        }
      ]
    },
    {
      "cell_type": "code",
      "source": [
        "import re\n",
        "from IPython.display import HTML\n",
        "from IPython.core.magic import register_cell_magic"
      ],
      "metadata": {
        "id": "QJsAS3dwrQ62"
      },
      "execution_count": null,
      "outputs": []
    },
    {
      "cell_type": "code",
      "source": [
        "def var_sub(m):\n",
        "  v=globals()[m[1]]\n",
        "  if(type(v)!=str):\n",
        "    v=repr(v)\n",
        "  return v"
      ],
      "metadata": {
        "id": "afLTYVYxrel_"
      },
      "execution_count": null,
      "outputs": []
    },
    {
      "cell_type": "code",
      "source": [
        "def javascript(line='',cell=''):\n",
        "  cell=re.sub(r'\\{\\{(\\w+)+}}',var_sub,cell)\n",
        "  m=re.match(r'\\w+',line)\n",
        "  if(m):\n",
        "    globals()[m[0]]=cell\n",
        "  else:\n",
        "    display(HTML('''\n",
        "    <div id='drawing'></div>\n",
        "    <script src=\"https://cdnjs.cloudflare.com/ajax/libs/svg.js/2.6.5/s\\ <script>\n",
        "var draw = SVG('drawing').size('100%', 100)\n",
        "var y_cursor_pos = 0\n",
        "function print(x) {\n",
        "draw.text(x.toString()). move (400, y_cursor_pos)\n",
        "y_cursor_pos += 20\n",
        "}\n",
        "text=s=>draw.text(s).font('anchor','middle')\n",
        "line=(x1,y1,x2,y2)=>draw.line(x1,y1,x2,y2.stroke({width:1}))\n",
        "max=Math.max'''+cell\n",
        "\n",
        "\n",
        "    ))"
      ],
      "metadata": {
        "id": "7iy38Vlg0KFJ"
      },
      "execution_count": null,
      "outputs": []
    },
    {
      "cell_type": "code",
      "source": [
        "%%javascript\n",
        "draw.rect(100,100)"
      ],
      "metadata": {
        "colab": {
          "base_uri": "https://localhost:8080/",
          "height": 17
        },
        "id": "4vW9H8H09NBk",
        "outputId": "808d944e-0f8f-44b2-a094-bd99eee0dbd9"
      },
      "execution_count": null,
      "outputs": [
        {
          "output_type": "display_data",
          "data": {
            "text/plain": [
              "<IPython.core.display.Javascript object>"
            ],
            "application/javascript": [
              "draw.rect(100,100)\n"
            ]
          },
          "metadata": {}
        }
      ]
    },
    {
      "cell_type": "code",
      "source": [
        "from IPython.display import HTML, Image\n",
        "from google.colab.output import eval_js\n",
        "from base64 import b64decode"
      ],
      "metadata": {
        "id": "z4WlQHj09VEa"
      },
      "execution_count": null,
      "outputs": []
    },
    {
      "cell_type": "code",
      "source": [
        "VIDEO_HTML ='''\n",
        "<video autoplay\n",
        "width=800 height=600></video>\n",
        "<script>\n",
        "var video = document.querySelector('video')\n",
        "navigator.mediaDevices.getUserMedia({ video: true })\n",
        ".then(stream=> video.srcObject = stream)\n",
        "var data = new Promise(resolve=>{\n",
        "video.onclick=()=>{\n",
        "var canvas = document.createElement('canvas')\n",
        "var [w,h] = [video.offsetWidth, video.offsetHeight]\n",
        "canvas.width = w\n",
        "canvas.height=h\n",
        "canvas.getContext('2d').drawImage(video, 0, 0, w, h)\n",
        "video.srcObject.getVideoTracks()[0].stop()\n",
        "video.replaceWith(canvas)\n",
        "resolve(canvas.toDataURL('image/jpeg', %f))\n",
        "}\n",
        "})\n",
        "</script>\n",
        "'''"
      ],
      "metadata": {
        "id": "PnrGDqwB9mxL"
      },
      "execution_count": null,
      "outputs": []
    },
    {
      "cell_type": "code",
      "source": [
        "def take_photo(filename='photo.jpg', quality=0.8):\n",
        "\tdisplay (HTML (VIDEO_HTML % quality))\n",
        "\tdata = eval_js(\"data\")\n",
        "\tbinary=b64decode(data.split(',')[1])\n",
        "\twith open(filename, 'wb') as f:\n",
        "\t\tf.write(binary)\n",
        "\treturn len(binary)"
      ],
      "metadata": {
        "id": "tQgMnR7x-jje"
      },
      "execution_count": null,
      "outputs": []
    },
    {
      "cell_type": "code",
      "source": [
        "take_photo()"
      ],
      "metadata": {
        "colab": {
          "base_uri": "https://localhost:8080/",
          "height": 971
        },
        "id": "edtbNZai-2OK",
        "outputId": "7ea13cdf-92b3-46f4-c6c8-89d7d8d18d28"
      },
      "execution_count": 128,
      "outputs": [
        {
          "output_type": "display_data",
          "data": {
            "text/plain": [
              "<IPython.core.display.HTML object>"
            ],
            "text/html": [
              "\n",
              "<video autoplay\n",
              "width=800 height=600></video>\n",
              "<script>\n",
              "var video = document.querySelector('video')\n",
              "navigator.mediaDevices.getUserMedia({ video: true })\n",
              ".then(stream=> video.srcObject = stream)\n",
              "var data = new Promise(resolve=>{\n",
              "video.onclick=()=>{\n",
              "var canvas = document.createElement('canvas')\n",
              "var [w,h] = [video.offsetWidth, video.offsetHeight]\n",
              "canvas.width = w\n",
              "canvas.height=h\n",
              "canvas.getContext('2d').drawImage(video, 0, 0, w, h)\n",
              "video.srcObject.getVideoTracks()[0].stop()\n",
              "video.replaceWith(canvas)\n",
              "resolve(canvas.toDataURL('image/jpeg', 0.900000))\n",
              "}\n",
              "})\n",
              "</script>\n"
            ]
          },
          "metadata": {}
        },
        {
          "output_type": "error",
          "ename": "KeyboardInterrupt",
          "evalue": "",
          "traceback": [
            "\u001b[0;31m---------------------------------------------------------------------------\u001b[0m",
            "\u001b[0;31mKeyboardInterrupt\u001b[0m                         Traceback (most recent call last)",
            "\u001b[0;32m<ipython-input-128-7bbead151978>\u001b[0m in \u001b[0;36m<cell line: 1>\u001b[0;34m()\u001b[0m\n\u001b[0;32m----> 1\u001b[0;31m \u001b[0mtake_photo\u001b[0m\u001b[0;34m(\u001b[0m\u001b[0mfilename\u001b[0m\u001b[0;34m=\u001b[0m\u001b[0;34m'my_photo.jpg'\u001b[0m\u001b[0;34m,\u001b[0m \u001b[0mquality\u001b[0m\u001b[0;34m=\u001b[0m\u001b[0;36m0.9\u001b[0m\u001b[0;34m)\u001b[0m\u001b[0;34m\u001b[0m\u001b[0;34m\u001b[0m\u001b[0m\n\u001b[0m",
            "\u001b[0;32m<ipython-input-121-919037b1b180>\u001b[0m in \u001b[0;36mtake_photo\u001b[0;34m(filename, quality)\u001b[0m\n\u001b[1;32m      1\u001b[0m \u001b[0;32mdef\u001b[0m \u001b[0mtake_photo\u001b[0m\u001b[0;34m(\u001b[0m\u001b[0mfilename\u001b[0m\u001b[0;34m=\u001b[0m\u001b[0;34m'photo.jpg'\u001b[0m\u001b[0;34m,\u001b[0m \u001b[0mquality\u001b[0m\u001b[0;34m=\u001b[0m\u001b[0;36m0.8\u001b[0m\u001b[0;34m)\u001b[0m\u001b[0;34m:\u001b[0m\u001b[0;34m\u001b[0m\u001b[0;34m\u001b[0m\u001b[0m\n\u001b[1;32m      2\u001b[0m         \u001b[0mdisplay\u001b[0m \u001b[0;34m(\u001b[0m\u001b[0mHTML\u001b[0m \u001b[0;34m(\u001b[0m\u001b[0mVIDEO_HTML\u001b[0m \u001b[0;34m%\u001b[0m \u001b[0mquality\u001b[0m\u001b[0;34m)\u001b[0m\u001b[0;34m)\u001b[0m\u001b[0;34m\u001b[0m\u001b[0;34m\u001b[0m\u001b[0m\n\u001b[0;32m----> 3\u001b[0;31m         \u001b[0mdata\u001b[0m \u001b[0;34m=\u001b[0m \u001b[0meval_js\u001b[0m\u001b[0;34m(\u001b[0m\u001b[0;34m\"data\"\u001b[0m\u001b[0;34m)\u001b[0m\u001b[0;34m\u001b[0m\u001b[0;34m\u001b[0m\u001b[0m\n\u001b[0m\u001b[1;32m      4\u001b[0m         \u001b[0mbinary\u001b[0m\u001b[0;34m=\u001b[0m\u001b[0mb64decode\u001b[0m\u001b[0;34m(\u001b[0m\u001b[0mdata\u001b[0m\u001b[0;34m.\u001b[0m\u001b[0msplit\u001b[0m\u001b[0;34m(\u001b[0m\u001b[0;34m','\u001b[0m\u001b[0;34m)\u001b[0m\u001b[0;34m[\u001b[0m\u001b[0;36m1\u001b[0m\u001b[0;34m]\u001b[0m\u001b[0;34m)\u001b[0m\u001b[0;34m\u001b[0m\u001b[0;34m\u001b[0m\u001b[0m\n\u001b[1;32m      5\u001b[0m         \u001b[0;32mwith\u001b[0m \u001b[0mopen\u001b[0m\u001b[0;34m(\u001b[0m\u001b[0mfilename\u001b[0m\u001b[0;34m,\u001b[0m \u001b[0;34m'wb'\u001b[0m\u001b[0;34m)\u001b[0m \u001b[0;32mas\u001b[0m \u001b[0mf\u001b[0m\u001b[0;34m:\u001b[0m\u001b[0;34m\u001b[0m\u001b[0;34m\u001b[0m\u001b[0m\n",
            "\u001b[0;32m/usr/local/lib/python3.10/dist-packages/google/colab/output/_js.py\u001b[0m in \u001b[0;36meval_js\u001b[0;34m(script, ignore_result, timeout_sec)\u001b[0m\n\u001b[1;32m     38\u001b[0m   \u001b[0;32mif\u001b[0m \u001b[0mignore_result\u001b[0m\u001b[0;34m:\u001b[0m\u001b[0;34m\u001b[0m\u001b[0;34m\u001b[0m\u001b[0m\n\u001b[1;32m     39\u001b[0m     \u001b[0;32mreturn\u001b[0m\u001b[0;34m\u001b[0m\u001b[0;34m\u001b[0m\u001b[0m\n\u001b[0;32m---> 40\u001b[0;31m   \u001b[0;32mreturn\u001b[0m \u001b[0m_message\u001b[0m\u001b[0;34m.\u001b[0m\u001b[0mread_reply_from_input\u001b[0m\u001b[0;34m(\u001b[0m\u001b[0mrequest_id\u001b[0m\u001b[0;34m,\u001b[0m \u001b[0mtimeout_sec\u001b[0m\u001b[0;34m)\u001b[0m\u001b[0;34m\u001b[0m\u001b[0;34m\u001b[0m\u001b[0m\n\u001b[0m\u001b[1;32m     41\u001b[0m \u001b[0;34m\u001b[0m\u001b[0m\n\u001b[1;32m     42\u001b[0m \u001b[0;34m\u001b[0m\u001b[0m\n",
            "\u001b[0;32m/usr/local/lib/python3.10/dist-packages/google/colab/_message.py\u001b[0m in \u001b[0;36mread_reply_from_input\u001b[0;34m(message_id, timeout_sec)\u001b[0m\n\u001b[1;32m     94\u001b[0m     \u001b[0mreply\u001b[0m \u001b[0;34m=\u001b[0m \u001b[0m_read_next_input_message\u001b[0m\u001b[0;34m(\u001b[0m\u001b[0;34m)\u001b[0m\u001b[0;34m\u001b[0m\u001b[0;34m\u001b[0m\u001b[0m\n\u001b[1;32m     95\u001b[0m     \u001b[0;32mif\u001b[0m \u001b[0mreply\u001b[0m \u001b[0;34m==\u001b[0m \u001b[0m_NOT_READY\u001b[0m \u001b[0;32mor\u001b[0m \u001b[0;32mnot\u001b[0m \u001b[0misinstance\u001b[0m\u001b[0;34m(\u001b[0m\u001b[0mreply\u001b[0m\u001b[0;34m,\u001b[0m \u001b[0mdict\u001b[0m\u001b[0;34m)\u001b[0m\u001b[0;34m:\u001b[0m\u001b[0;34m\u001b[0m\u001b[0;34m\u001b[0m\u001b[0m\n\u001b[0;32m---> 96\u001b[0;31m       \u001b[0mtime\u001b[0m\u001b[0;34m.\u001b[0m\u001b[0msleep\u001b[0m\u001b[0;34m(\u001b[0m\u001b[0;36m0.025\u001b[0m\u001b[0;34m)\u001b[0m\u001b[0;34m\u001b[0m\u001b[0;34m\u001b[0m\u001b[0m\n\u001b[0m\u001b[1;32m     97\u001b[0m       \u001b[0;32mcontinue\u001b[0m\u001b[0;34m\u001b[0m\u001b[0;34m\u001b[0m\u001b[0m\n\u001b[1;32m     98\u001b[0m     if (\n",
            "\u001b[0;31mKeyboardInterrupt\u001b[0m: "
          ]
        }
      ]
    },
    {
      "cell_type": "code",
      "source": [],
      "metadata": {
        "id": "8wHy9Yfx_DRK"
      },
      "execution_count": null,
      "outputs": []
    },
    {
      "cell_type": "code",
      "source": [],
      "metadata": {
        "id": "r5OjoisU_HMp"
      },
      "execution_count": null,
      "outputs": []
    }
  ]
}